{
  "nbformat": 4,
  "nbformat_minor": 0,
  "metadata": {
    "colab": {
      "provenance": [],
      "mount_file_id": "1LNmWJlYRitCLmiUHUTLW4nYLN7pp1PWg",
      "authorship_tag": "ABX9TyNv6D+UVe2fqe9KNz2l7EG4",
      "include_colab_link": true
    },
    "kernelspec": {
      "name": "python3",
      "display_name": "Python 3"
    },
    "language_info": {
      "name": "python"
    }
  },
  "cells": [
    {
      "cell_type": "markdown",
      "metadata": {
        "id": "view-in-github",
        "colab_type": "text"
      },
      "source": [
        "<a href=\"https://colab.research.google.com/github/jennybian01/GGDA612_Project-1/blob/main/olympics.ipynb\" target=\"_parent\"><img src=\"https://colab.research.google.com/assets/colab-badge.svg\" alt=\"Open In Colab\"/></a>"
      ]
    },
    {
      "cell_type": "code",
      "source": [
        "from google.colab import drive\n",
        "drive.mount('/content/drive')"
      ],
      "metadata": {
        "colab": {
          "base_uri": "https://localhost:8080/"
        },
        "id": "0fAFji2x_q7L",
        "outputId": "474dc1ab-cc22-4fec-f13b-ff72f410deab"
      },
      "execution_count": null,
      "outputs": [
        {
          "output_type": "stream",
          "name": "stdout",
          "text": [
            "Drive already mounted at /content/drive; to attempt to forcibly remount, call drive.mount(\"/content/drive\", force_remount=True).\n"
          ]
        }
      ]
    },
    {
      "cell_type": "code",
      "execution_count": null,
      "metadata": {
        "colab": {
          "base_uri": "https://localhost:8080/"
        },
        "id": "YZBFtcNr_hSK",
        "outputId": "37009758-29f7-4416-d86a-1e5cd89e0f86"
      },
      "outputs": [
        {
          "output_type": "stream",
          "name": "stdout",
          "text": [
            "\u001b[0m\u001b[01;34mdrive\u001b[0m/  \u001b[01;34msample_data\u001b[0m/\n"
          ]
        }
      ],
      "source": [
        "ls"
      ]
    },
    {
      "cell_type": "code",
      "source": [
        "pwd"
      ],
      "metadata": {
        "colab": {
          "base_uri": "https://localhost:8080/",
          "height": 35
        },
        "id": "R3l6LlLN_903",
        "outputId": "afb42870-bc73-45da-85f5-4d15d380e812"
      },
      "execution_count": null,
      "outputs": [
        {
          "output_type": "execute_result",
          "data": {
            "text/plain": [
              "'/content'"
            ],
            "application/vnd.google.colaboratory.intrinsic+json": {
              "type": "string"
            }
          },
          "metadata": {},
          "execution_count": 3
        }
      ]
    },
    {
      "cell_type": "code",
      "source": [
        "cd drive"
      ],
      "metadata": {
        "colab": {
          "base_uri": "https://localhost:8080/"
        },
        "id": "qu1txzc4AAwU",
        "outputId": "e31b3c1c-42b0-4407-cefe-9e631aec815e"
      },
      "execution_count": null,
      "outputs": [
        {
          "output_type": "stream",
          "name": "stdout",
          "text": [
            "/content/drive\n"
          ]
        }
      ]
    },
    {
      "cell_type": "code",
      "source": [
        "ls"
      ],
      "metadata": {
        "colab": {
          "base_uri": "https://localhost:8080/"
        },
        "id": "WxHDS3PBAGDc",
        "outputId": "b2848e80-3250-42b5-8e3d-0c93572a5d7a"
      },
      "execution_count": null,
      "outputs": [
        {
          "output_type": "stream",
          "name": "stdout",
          "text": [
            "\u001b[0m\u001b[01;34mMyDrive\u001b[0m/\n"
          ]
        }
      ]
    },
    {
      "cell_type": "code",
      "source": [
        "cd MyDrive"
      ],
      "metadata": {
        "colab": {
          "base_uri": "https://localhost:8080/"
        },
        "id": "0YmtSVS5AH66",
        "outputId": "9e39816f-f25c-492a-f539-48d10f3dd6f2"
      },
      "execution_count": null,
      "outputs": [
        {
          "output_type": "stream",
          "name": "stdout",
          "text": [
            "/content/drive/MyDrive\n"
          ]
        }
      ]
    },
    {
      "cell_type": "code",
      "source": [
        "ls\n"
      ],
      "metadata": {
        "colab": {
          "base_uri": "https://localhost:8080/"
        },
        "id": "1Mw1_RbDANFB",
        "outputId": "9389da36-a9e9-422e-e1ab-8672b184b6c1"
      },
      "execution_count": null,
      "outputs": [
        {
          "output_type": "stream",
          "name": "stdout",
          "text": [
            "\u001b[0m\u001b[01;34m612\u001b[0m/\n"
          ]
        }
      ]
    },
    {
      "cell_type": "code",
      "source": [
        "cd 612"
      ],
      "metadata": {
        "colab": {
          "base_uri": "https://localhost:8080/"
        },
        "id": "PDOmI3y8AR6t",
        "outputId": "3063275e-4559-4b00-c0d2-6ad8df7f84aa"
      },
      "execution_count": null,
      "outputs": [
        {
          "output_type": "stream",
          "name": "stdout",
          "text": [
            "/content/drive/MyDrive/612\n"
          ]
        }
      ]
    },
    {
      "cell_type": "code",
      "source": [
        "ls"
      ],
      "metadata": {
        "colab": {
          "base_uri": "https://localhost:8080/"
        },
        "id": "Dg29VCQ6AUNB",
        "outputId": "cba16ce5-a177-4984-f7ef-eccc4ef0febc"
      },
      "execution_count": null,
      "outputs": [
        {
          "output_type": "stream",
          "name": "stdout",
          "text": [
            "\u001b[0m\u001b[01;34m'612W2_Act 2_05 May2024'\u001b[0m/\n"
          ]
        }
      ]
    },
    {
      "cell_type": "code",
      "source": [
        "cd 612W2_Act 2_05 May2024"
      ],
      "metadata": {
        "colab": {
          "base_uri": "https://localhost:8080/"
        },
        "id": "6ULIlp1NAW1d",
        "outputId": "815682c2-618d-4202-f3fa-138ba36fcf65"
      },
      "execution_count": null,
      "outputs": [
        {
          "output_type": "stream",
          "name": "stdout",
          "text": [
            "/content/drive/MyDrive/612/612W2_Act 2_05 May2024\n"
          ]
        }
      ]
    },
    {
      "cell_type": "code",
      "source": [
        "ls"
      ],
      "metadata": {
        "colab": {
          "base_uri": "https://localhost:8080/"
        },
        "id": "GTSi-M3tAcFo",
        "outputId": "4bba97d7-cff4-4822-c00b-2ad2a197514e"
      },
      "execution_count": null,
      "outputs": [
        {
          "output_type": "stream",
          "name": "stdout",
          "text": [
            "BL-Flickr-Images-Book.csv       BL-Flickr-Images-Book_drop.csv  \u001b[0m\u001b[01;34mOlympics\u001b[0m/\n",
            "BL-Flickr-Images-Book_Date.csv  BL.ipynb\n"
          ]
        }
      ]
    },
    {
      "cell_type": "code",
      "source": [
        "cd Olympics/"
      ],
      "metadata": {
        "colab": {
          "base_uri": "https://localhost:8080/"
        },
        "id": "OTUt39izAerq",
        "outputId": "312376a4-bbd9-4abe-bcb4-dc37c03acbf1"
      },
      "execution_count": null,
      "outputs": [
        {
          "output_type": "stream",
          "name": "stdout",
          "text": [
            "/content/drive/MyDrive/612/612W2_Act 2_05 May2024/Olympics\n"
          ]
        }
      ]
    },
    {
      "cell_type": "code",
      "source": [
        "ls"
      ],
      "metadata": {
        "colab": {
          "base_uri": "https://localhost:8080/"
        },
        "id": "VsJWtyqyAkl6",
        "outputId": "e53dd8a6-3c12-4668-f38a-bfdcc6f32b78"
      },
      "execution_count": null,
      "outputs": [
        {
          "output_type": "stream",
          "name": "stdout",
          "text": [
            "data_cleaning_log.csv  olympics.csv    olympics_report.csv\n",
            "olympic_cleaned.csv    olympics.ipynb  olympics_update1.csv\n"
          ]
        }
      ]
    },
    {
      "cell_type": "code",
      "source": [
        "import pandas as pd\n",
        "import numpy as np\n"
      ],
      "metadata": {
        "id": "GExwkEFhAslq"
      },
      "execution_count": null,
      "outputs": []
    },
    {
      "cell_type": "code",
      "source": [
        "df = pd.read_csv('olympics.csv',header=1)\n",
        "df.head(3)\n"
      ],
      "metadata": {
        "colab": {
          "base_uri": "https://localhost:8080/",
          "height": 143
        },
        "id": "z0kOpw_bAzZj",
        "outputId": "38841029-0801-401a-9e7a-39f021812fc3"
      },
      "execution_count": null,
      "outputs": [
        {
          "output_type": "execute_result",
          "data": {
            "text/plain": [
              "          Unnamed: 0  ? Summer  01 !  02 !  03 !  Total  ? Winter  01 !.1  \\\n",
              "0  Afghanistan (AFG)        13     0     0     2      2         0       0   \n",
              "1      Algeria (ALG)        12     5     2     8     15         3       0   \n",
              "2    Argentina (ARG)        23    18    24    28     70        18       0   \n",
              "\n",
              "   02 !.1  03 !.1  Total.1  ? Games  01 !.2  02 !.2  03 !.2  Combined total  \n",
              "0       0       0        0       13       0       0       2               2  \n",
              "1       0       0        0       15       5       2       8              15  \n",
              "2       0       0        0       41      18      24      28              70  "
            ],
            "text/html": [
              "\n",
              "  <div id=\"df-b8ff4459-ee9e-4dee-aa9a-219bbc81a038\" class=\"colab-df-container\">\n",
              "    <div>\n",
              "<style scoped>\n",
              "    .dataframe tbody tr th:only-of-type {\n",
              "        vertical-align: middle;\n",
              "    }\n",
              "\n",
              "    .dataframe tbody tr th {\n",
              "        vertical-align: top;\n",
              "    }\n",
              "\n",
              "    .dataframe thead th {\n",
              "        text-align: right;\n",
              "    }\n",
              "</style>\n",
              "<table border=\"1\" class=\"dataframe\">\n",
              "  <thead>\n",
              "    <tr style=\"text-align: right;\">\n",
              "      <th></th>\n",
              "      <th>Unnamed: 0</th>\n",
              "      <th>? Summer</th>\n",
              "      <th>01 !</th>\n",
              "      <th>02 !</th>\n",
              "      <th>03 !</th>\n",
              "      <th>Total</th>\n",
              "      <th>? Winter</th>\n",
              "      <th>01 !.1</th>\n",
              "      <th>02 !.1</th>\n",
              "      <th>03 !.1</th>\n",
              "      <th>Total.1</th>\n",
              "      <th>? Games</th>\n",
              "      <th>01 !.2</th>\n",
              "      <th>02 !.2</th>\n",
              "      <th>03 !.2</th>\n",
              "      <th>Combined total</th>\n",
              "    </tr>\n",
              "  </thead>\n",
              "  <tbody>\n",
              "    <tr>\n",
              "      <th>0</th>\n",
              "      <td>Afghanistan (AFG)</td>\n",
              "      <td>13</td>\n",
              "      <td>0</td>\n",
              "      <td>0</td>\n",
              "      <td>2</td>\n",
              "      <td>2</td>\n",
              "      <td>0</td>\n",
              "      <td>0</td>\n",
              "      <td>0</td>\n",
              "      <td>0</td>\n",
              "      <td>0</td>\n",
              "      <td>13</td>\n",
              "      <td>0</td>\n",
              "      <td>0</td>\n",
              "      <td>2</td>\n",
              "      <td>2</td>\n",
              "    </tr>\n",
              "    <tr>\n",
              "      <th>1</th>\n",
              "      <td>Algeria (ALG)</td>\n",
              "      <td>12</td>\n",
              "      <td>5</td>\n",
              "      <td>2</td>\n",
              "      <td>8</td>\n",
              "      <td>15</td>\n",
              "      <td>3</td>\n",
              "      <td>0</td>\n",
              "      <td>0</td>\n",
              "      <td>0</td>\n",
              "      <td>0</td>\n",
              "      <td>15</td>\n",
              "      <td>5</td>\n",
              "      <td>2</td>\n",
              "      <td>8</td>\n",
              "      <td>15</td>\n",
              "    </tr>\n",
              "    <tr>\n",
              "      <th>2</th>\n",
              "      <td>Argentina (ARG)</td>\n",
              "      <td>23</td>\n",
              "      <td>18</td>\n",
              "      <td>24</td>\n",
              "      <td>28</td>\n",
              "      <td>70</td>\n",
              "      <td>18</td>\n",
              "      <td>0</td>\n",
              "      <td>0</td>\n",
              "      <td>0</td>\n",
              "      <td>0</td>\n",
              "      <td>41</td>\n",
              "      <td>18</td>\n",
              "      <td>24</td>\n",
              "      <td>28</td>\n",
              "      <td>70</td>\n",
              "    </tr>\n",
              "  </tbody>\n",
              "</table>\n",
              "</div>\n",
              "    <div class=\"colab-df-buttons\">\n",
              "\n",
              "  <div class=\"colab-df-container\">\n",
              "    <button class=\"colab-df-convert\" onclick=\"convertToInteractive('df-b8ff4459-ee9e-4dee-aa9a-219bbc81a038')\"\n",
              "            title=\"Convert this dataframe to an interactive table.\"\n",
              "            style=\"display:none;\">\n",
              "\n",
              "  <svg xmlns=\"http://www.w3.org/2000/svg\" height=\"24px\" viewBox=\"0 -960 960 960\">\n",
              "    <path d=\"M120-120v-720h720v720H120Zm60-500h600v-160H180v160Zm220 220h160v-160H400v160Zm0 220h160v-160H400v160ZM180-400h160v-160H180v160Zm440 0h160v-160H620v160ZM180-180h160v-160H180v160Zm440 0h160v-160H620v160Z\"/>\n",
              "  </svg>\n",
              "    </button>\n",
              "\n",
              "  <style>\n",
              "    .colab-df-container {\n",
              "      display:flex;\n",
              "      gap: 12px;\n",
              "    }\n",
              "\n",
              "    .colab-df-convert {\n",
              "      background-color: #E8F0FE;\n",
              "      border: none;\n",
              "      border-radius: 50%;\n",
              "      cursor: pointer;\n",
              "      display: none;\n",
              "      fill: #1967D2;\n",
              "      height: 32px;\n",
              "      padding: 0 0 0 0;\n",
              "      width: 32px;\n",
              "    }\n",
              "\n",
              "    .colab-df-convert:hover {\n",
              "      background-color: #E2EBFA;\n",
              "      box-shadow: 0px 1px 2px rgba(60, 64, 67, 0.3), 0px 1px 3px 1px rgba(60, 64, 67, 0.15);\n",
              "      fill: #174EA6;\n",
              "    }\n",
              "\n",
              "    .colab-df-buttons div {\n",
              "      margin-bottom: 4px;\n",
              "    }\n",
              "\n",
              "    [theme=dark] .colab-df-convert {\n",
              "      background-color: #3B4455;\n",
              "      fill: #D2E3FC;\n",
              "    }\n",
              "\n",
              "    [theme=dark] .colab-df-convert:hover {\n",
              "      background-color: #434B5C;\n",
              "      box-shadow: 0px 1px 3px 1px rgba(0, 0, 0, 0.15);\n",
              "      filter: drop-shadow(0px 1px 2px rgba(0, 0, 0, 0.3));\n",
              "      fill: #FFFFFF;\n",
              "    }\n",
              "  </style>\n",
              "\n",
              "    <script>\n",
              "      const buttonEl =\n",
              "        document.querySelector('#df-b8ff4459-ee9e-4dee-aa9a-219bbc81a038 button.colab-df-convert');\n",
              "      buttonEl.style.display =\n",
              "        google.colab.kernel.accessAllowed ? 'block' : 'none';\n",
              "\n",
              "      async function convertToInteractive(key) {\n",
              "        const element = document.querySelector('#df-b8ff4459-ee9e-4dee-aa9a-219bbc81a038');\n",
              "        const dataTable =\n",
              "          await google.colab.kernel.invokeFunction('convertToInteractive',\n",
              "                                                    [key], {});\n",
              "        if (!dataTable) return;\n",
              "\n",
              "        const docLinkHtml = 'Like what you see? Visit the ' +\n",
              "          '<a target=\"_blank\" href=https://colab.research.google.com/notebooks/data_table.ipynb>data table notebook</a>'\n",
              "          + ' to learn more about interactive tables.';\n",
              "        element.innerHTML = '';\n",
              "        dataTable['output_type'] = 'display_data';\n",
              "        await google.colab.output.renderOutput(dataTable, element);\n",
              "        const docLink = document.createElement('div');\n",
              "        docLink.innerHTML = docLinkHtml;\n",
              "        element.appendChild(docLink);\n",
              "      }\n",
              "    </script>\n",
              "  </div>\n",
              "\n",
              "\n",
              "<div id=\"df-81b83272-98f0-4793-8cad-2ab891e6dc44\">\n",
              "  <button class=\"colab-df-quickchart\" onclick=\"quickchart('df-81b83272-98f0-4793-8cad-2ab891e6dc44')\"\n",
              "            title=\"Suggest charts\"\n",
              "            style=\"display:none;\">\n",
              "\n",
              "<svg xmlns=\"http://www.w3.org/2000/svg\" height=\"24px\"viewBox=\"0 0 24 24\"\n",
              "     width=\"24px\">\n",
              "    <g>\n",
              "        <path d=\"M19 3H5c-1.1 0-2 .9-2 2v14c0 1.1.9 2 2 2h14c1.1 0 2-.9 2-2V5c0-1.1-.9-2-2-2zM9 17H7v-7h2v7zm4 0h-2V7h2v10zm4 0h-2v-4h2v4z\"/>\n",
              "    </g>\n",
              "</svg>\n",
              "  </button>\n",
              "\n",
              "<style>\n",
              "  .colab-df-quickchart {\n",
              "      --bg-color: #E8F0FE;\n",
              "      --fill-color: #1967D2;\n",
              "      --hover-bg-color: #E2EBFA;\n",
              "      --hover-fill-color: #174EA6;\n",
              "      --disabled-fill-color: #AAA;\n",
              "      --disabled-bg-color: #DDD;\n",
              "  }\n",
              "\n",
              "  [theme=dark] .colab-df-quickchart {\n",
              "      --bg-color: #3B4455;\n",
              "      --fill-color: #D2E3FC;\n",
              "      --hover-bg-color: #434B5C;\n",
              "      --hover-fill-color: #FFFFFF;\n",
              "      --disabled-bg-color: #3B4455;\n",
              "      --disabled-fill-color: #666;\n",
              "  }\n",
              "\n",
              "  .colab-df-quickchart {\n",
              "    background-color: var(--bg-color);\n",
              "    border: none;\n",
              "    border-radius: 50%;\n",
              "    cursor: pointer;\n",
              "    display: none;\n",
              "    fill: var(--fill-color);\n",
              "    height: 32px;\n",
              "    padding: 0;\n",
              "    width: 32px;\n",
              "  }\n",
              "\n",
              "  .colab-df-quickchart:hover {\n",
              "    background-color: var(--hover-bg-color);\n",
              "    box-shadow: 0 1px 2px rgba(60, 64, 67, 0.3), 0 1px 3px 1px rgba(60, 64, 67, 0.15);\n",
              "    fill: var(--button-hover-fill-color);\n",
              "  }\n",
              "\n",
              "  .colab-df-quickchart-complete:disabled,\n",
              "  .colab-df-quickchart-complete:disabled:hover {\n",
              "    background-color: var(--disabled-bg-color);\n",
              "    fill: var(--disabled-fill-color);\n",
              "    box-shadow: none;\n",
              "  }\n",
              "\n",
              "  .colab-df-spinner {\n",
              "    border: 2px solid var(--fill-color);\n",
              "    border-color: transparent;\n",
              "    border-bottom-color: var(--fill-color);\n",
              "    animation:\n",
              "      spin 1s steps(1) infinite;\n",
              "  }\n",
              "\n",
              "  @keyframes spin {\n",
              "    0% {\n",
              "      border-color: transparent;\n",
              "      border-bottom-color: var(--fill-color);\n",
              "      border-left-color: var(--fill-color);\n",
              "    }\n",
              "    20% {\n",
              "      border-color: transparent;\n",
              "      border-left-color: var(--fill-color);\n",
              "      border-top-color: var(--fill-color);\n",
              "    }\n",
              "    30% {\n",
              "      border-color: transparent;\n",
              "      border-left-color: var(--fill-color);\n",
              "      border-top-color: var(--fill-color);\n",
              "      border-right-color: var(--fill-color);\n",
              "    }\n",
              "    40% {\n",
              "      border-color: transparent;\n",
              "      border-right-color: var(--fill-color);\n",
              "      border-top-color: var(--fill-color);\n",
              "    }\n",
              "    60% {\n",
              "      border-color: transparent;\n",
              "      border-right-color: var(--fill-color);\n",
              "    }\n",
              "    80% {\n",
              "      border-color: transparent;\n",
              "      border-right-color: var(--fill-color);\n",
              "      border-bottom-color: var(--fill-color);\n",
              "    }\n",
              "    90% {\n",
              "      border-color: transparent;\n",
              "      border-bottom-color: var(--fill-color);\n",
              "    }\n",
              "  }\n",
              "</style>\n",
              "\n",
              "  <script>\n",
              "    async function quickchart(key) {\n",
              "      const quickchartButtonEl =\n",
              "        document.querySelector('#' + key + ' button');\n",
              "      quickchartButtonEl.disabled = true;  // To prevent multiple clicks.\n",
              "      quickchartButtonEl.classList.add('colab-df-spinner');\n",
              "      try {\n",
              "        const charts = await google.colab.kernel.invokeFunction(\n",
              "            'suggestCharts', [key], {});\n",
              "      } catch (error) {\n",
              "        console.error('Error during call to suggestCharts:', error);\n",
              "      }\n",
              "      quickchartButtonEl.classList.remove('colab-df-spinner');\n",
              "      quickchartButtonEl.classList.add('colab-df-quickchart-complete');\n",
              "    }\n",
              "    (() => {\n",
              "      let quickchartButtonEl =\n",
              "        document.querySelector('#df-81b83272-98f0-4793-8cad-2ab891e6dc44 button');\n",
              "      quickchartButtonEl.style.display =\n",
              "        google.colab.kernel.accessAllowed ? 'block' : 'none';\n",
              "    })();\n",
              "  </script>\n",
              "</div>\n",
              "\n",
              "    </div>\n",
              "  </div>\n"
            ],
            "application/vnd.google.colaboratory.intrinsic+json": {
              "type": "dataframe",
              "variable_name": "df",
              "summary": "{\n  \"name\": \"df\",\n  \"rows\": 147,\n  \"fields\": [\n    {\n      \"column\": \"Unnamed: 0\",\n      \"properties\": {\n        \"dtype\": \"string\",\n        \"num_unique_values\": 147,\n        \"samples\": [\n          \"Tanzania (TAN) [TAN]\",\n          \"Grenada (GRN)\",\n          \"Venezuela (VEN)\"\n        ],\n        \"semantic_type\": \"\",\n        \"description\": \"\"\n      }\n    },\n    {\n      \"column\": \"? Summer\",\n      \"properties\": {\n        \"dtype\": \"number\",\n        \"std\": 7,\n        \"min\": 1,\n        \"max\": 27,\n        \"num_unique_values\": 27,\n        \"samples\": [\n          8,\n          21,\n          11\n        ],\n        \"semantic_type\": \"\",\n        \"description\": \"\"\n      }\n    },\n    {\n      \"column\": \"01 !\",\n      \"properties\": {\n        \"dtype\": \"number\",\n        \"std\": 405,\n        \"min\": 0,\n        \"max\": 4809,\n        \"num_unique_values\": 54,\n        \"samples\": [\n          9,\n          33,\n          39\n        ],\n        \"semantic_type\": \"\",\n        \"description\": \"\"\n      }\n    },\n    {\n      \"column\": \"02 !\",\n      \"properties\": {\n        \"dtype\": \"number\",\n        \"std\": 399,\n        \"min\": 0,\n        \"max\": 4775,\n        \"num_unique_values\": 54,\n        \"samples\": [\n          9,\n          25,\n          73\n        ],\n        \"semantic_type\": \"\",\n        \"description\": \"\"\n      }\n    },\n    {\n      \"column\": \"03 !\",\n      \"properties\": {\n        \"dtype\": \"number\",\n        \"std\": 427,\n        \"min\": 0,\n        \"max\": 5130,\n        \"num_unique_values\": 56,\n        \"samples\": [\n          2,\n          177,\n          25\n        ],\n        \"semantic_type\": \"\",\n        \"description\": \"\"\n      }\n    },\n    {\n      \"column\": \"Total\",\n      \"properties\": {\n        \"dtype\": \"number\",\n        \"std\": 1231,\n        \"min\": 0,\n        \"max\": 14714,\n        \"num_unique_values\": 75,\n        \"samples\": [\n          468,\n          76,\n          4\n        ],\n        \"semantic_type\": \"\",\n        \"description\": \"\"\n      }\n    },\n    {\n      \"column\": \"? Winter\",\n      \"properties\": {\n        \"dtype\": \"number\",\n        \"std\": 7,\n        \"min\": 0,\n        \"max\": 22,\n        \"num_unique_values\": 21,\n        \"samples\": [\n          0,\n          17,\n          11\n        ],\n        \"semantic_type\": \"\",\n        \"description\": \"\"\n      }\n    },\n    {\n      \"column\": \"01 !.1\",\n      \"properties\": {\n        \"dtype\": \"number\",\n        \"std\": 80,\n        \"min\": 0,\n        \"max\": 959,\n        \"num_unique_values\": 25,\n        \"samples\": [\n          7,\n          10,\n          0\n        ],\n        \"semantic_type\": \"\",\n        \"description\": \"\"\n      }\n    },\n    {\n      \"column\": \"02 !.1\",\n      \"properties\": {\n        \"dtype\": \"number\",\n        \"std\": 80,\n        \"min\": 0,\n        \"max\": 958,\n        \"num_unique_values\": 24,\n        \"samples\": [\n          6,\n          17,\n          0\n        ],\n        \"semantic_type\": \"\",\n        \"description\": \"\"\n      }\n    },\n    {\n      \"column\": \"03 !.1\",\n      \"properties\": {\n        \"dtype\": \"number\",\n        \"std\": 79,\n        \"min\": 0,\n        \"max\": 948,\n        \"num_unique_values\": 27,\n        \"samples\": [\n          8,\n          35,\n          15\n        ],\n        \"semantic_type\": \"\",\n        \"description\": \"\"\n      }\n    },\n    {\n      \"column\": \"Total.1\",\n      \"properties\": {\n        \"dtype\": \"number\",\n        \"std\": 240,\n        \"min\": 0,\n        \"max\": 2865,\n        \"num_unique_values\": 34,\n        \"samples\": [\n          209,\n          26,\n          194\n        ],\n        \"semantic_type\": \"\",\n        \"description\": \"\"\n      }\n    },\n    {\n      \"column\": \"? Games\",\n      \"properties\": {\n        \"dtype\": \"number\",\n        \"std\": 13,\n        \"min\": 1,\n        \"max\": 49,\n        \"num_unique_values\": 44,\n        \"samples\": [\n          33,\n          7,\n          22\n        ],\n        \"semantic_type\": \"\",\n        \"description\": \"\"\n      }\n    },\n    {\n      \"column\": \"01 !.2\",\n      \"properties\": {\n        \"dtype\": \"number\",\n        \"std\": 485,\n        \"min\": 0,\n        \"max\": 5768,\n        \"num_unique_values\": 55,\n        \"samples\": [\n          15,\n          144,\n          235\n        ],\n        \"semantic_type\": \"\",\n        \"description\": \"\"\n      }\n    },\n    {\n      \"column\": \"02 !.2\",\n      \"properties\": {\n        \"dtype\": \"number\",\n        \"std\": 478,\n        \"min\": 0,\n        \"max\": 5733,\n        \"num_unique_values\": 54,\n        \"samples\": [\n          9,\n          204,\n          59\n        ],\n        \"semantic_type\": \"\",\n        \"description\": \"\"\n      }\n    },\n    {\n      \"column\": \"03 !.2\",\n      \"properties\": {\n        \"dtype\": \"number\",\n        \"std\": 505,\n        \"min\": 0,\n        \"max\": 6078,\n        \"num_unique_values\": 63,\n        \"samples\": [\n          750,\n          230,\n          2\n        ],\n        \"semantic_type\": \"\",\n        \"description\": \"\"\n      }\n    },\n    {\n      \"column\": \"Combined total\",\n      \"properties\": {\n        \"dtype\": \"number\",\n        \"std\": 1469,\n        \"min\": 1,\n        \"max\": 17579,\n        \"num_unique_values\": 74,\n        \"samples\": [\n          480,\n          76,\n          34\n        ],\n        \"semantic_type\": \"\",\n        \"description\": \"\"\n      }\n    }\n  ]\n}"
            }
          },
          "metadata": {},
          "execution_count": 16
        }
      ]
    },
    {
      "cell_type": "code",
      "source": [
        "df.rename(columns={'Unnamed: 0': 'Country', '? Summer': 'Summer', '01 !': 'Gold_s','02 !':'Silver_s','03 !':'Bronze_s','Total':'Total_summer','? Winter':'Winter','01 !.1':'Gold_w','02 !.1':'Silver_w','03 !.1':'Bronze_w','Total.1':'Total_Winter','? Games':'Total_Games','01 !.2':'Tot_Gold','02 !.2':'Tol_Sil','03 !.2':'Tol_Bro','Combined total':'Combined_total'}, inplace=True)"
      ],
      "metadata": {
        "id": "-3YeV9vtA3Ry"
      },
      "execution_count": null,
      "outputs": []
    },
    {
      "cell_type": "code",
      "source": [
        "df.head(3)"
      ],
      "metadata": {
        "colab": {
          "base_uri": "https://localhost:8080/",
          "height": 143
        },
        "id": "g4EjfU0gA-C2",
        "outputId": "709de595-e9ac-42fa-dc82-6c68893e120d"
      },
      "execution_count": null,
      "outputs": [
        {
          "output_type": "execute_result",
          "data": {
            "text/plain": [
              "             Country  Summer  Gold_s  Silver_s  Bronze_s  Total_summer  \\\n",
              "0  Afghanistan (AFG)      13       0         0         2             2   \n",
              "1      Algeria (ALG)      12       5         2         8            15   \n",
              "2    Argentina (ARG)      23      18        24        28            70   \n",
              "\n",
              "   Winter  Gold_w  Silver_w  Bronze_w  Total_Winter  Total_Games  Tot_Gold  \\\n",
              "0       0       0         0         0             0           13         0   \n",
              "1       3       0         0         0             0           15         5   \n",
              "2      18       0         0         0             0           41        18   \n",
              "\n",
              "   Tol_Sil  Tol_Bro  Combined_total  \n",
              "0        0        2               2  \n",
              "1        2        8              15  \n",
              "2       24       28              70  "
            ],
            "text/html": [
              "\n",
              "  <div id=\"df-c516fd70-c757-4a1e-9e36-fb69524de63c\" class=\"colab-df-container\">\n",
              "    <div>\n",
              "<style scoped>\n",
              "    .dataframe tbody tr th:only-of-type {\n",
              "        vertical-align: middle;\n",
              "    }\n",
              "\n",
              "    .dataframe tbody tr th {\n",
              "        vertical-align: top;\n",
              "    }\n",
              "\n",
              "    .dataframe thead th {\n",
              "        text-align: right;\n",
              "    }\n",
              "</style>\n",
              "<table border=\"1\" class=\"dataframe\">\n",
              "  <thead>\n",
              "    <tr style=\"text-align: right;\">\n",
              "      <th></th>\n",
              "      <th>Country</th>\n",
              "      <th>Summer</th>\n",
              "      <th>Gold_s</th>\n",
              "      <th>Silver_s</th>\n",
              "      <th>Bronze_s</th>\n",
              "      <th>Total_summer</th>\n",
              "      <th>Winter</th>\n",
              "      <th>Gold_w</th>\n",
              "      <th>Silver_w</th>\n",
              "      <th>Bronze_w</th>\n",
              "      <th>Total_Winter</th>\n",
              "      <th>Total_Games</th>\n",
              "      <th>Tot_Gold</th>\n",
              "      <th>Tol_Sil</th>\n",
              "      <th>Tol_Bro</th>\n",
              "      <th>Combined_total</th>\n",
              "    </tr>\n",
              "  </thead>\n",
              "  <tbody>\n",
              "    <tr>\n",
              "      <th>0</th>\n",
              "      <td>Afghanistan (AFG)</td>\n",
              "      <td>13</td>\n",
              "      <td>0</td>\n",
              "      <td>0</td>\n",
              "      <td>2</td>\n",
              "      <td>2</td>\n",
              "      <td>0</td>\n",
              "      <td>0</td>\n",
              "      <td>0</td>\n",
              "      <td>0</td>\n",
              "      <td>0</td>\n",
              "      <td>13</td>\n",
              "      <td>0</td>\n",
              "      <td>0</td>\n",
              "      <td>2</td>\n",
              "      <td>2</td>\n",
              "    </tr>\n",
              "    <tr>\n",
              "      <th>1</th>\n",
              "      <td>Algeria (ALG)</td>\n",
              "      <td>12</td>\n",
              "      <td>5</td>\n",
              "      <td>2</td>\n",
              "      <td>8</td>\n",
              "      <td>15</td>\n",
              "      <td>3</td>\n",
              "      <td>0</td>\n",
              "      <td>0</td>\n",
              "      <td>0</td>\n",
              "      <td>0</td>\n",
              "      <td>15</td>\n",
              "      <td>5</td>\n",
              "      <td>2</td>\n",
              "      <td>8</td>\n",
              "      <td>15</td>\n",
              "    </tr>\n",
              "    <tr>\n",
              "      <th>2</th>\n",
              "      <td>Argentina (ARG)</td>\n",
              "      <td>23</td>\n",
              "      <td>18</td>\n",
              "      <td>24</td>\n",
              "      <td>28</td>\n",
              "      <td>70</td>\n",
              "      <td>18</td>\n",
              "      <td>0</td>\n",
              "      <td>0</td>\n",
              "      <td>0</td>\n",
              "      <td>0</td>\n",
              "      <td>41</td>\n",
              "      <td>18</td>\n",
              "      <td>24</td>\n",
              "      <td>28</td>\n",
              "      <td>70</td>\n",
              "    </tr>\n",
              "  </tbody>\n",
              "</table>\n",
              "</div>\n",
              "    <div class=\"colab-df-buttons\">\n",
              "\n",
              "  <div class=\"colab-df-container\">\n",
              "    <button class=\"colab-df-convert\" onclick=\"convertToInteractive('df-c516fd70-c757-4a1e-9e36-fb69524de63c')\"\n",
              "            title=\"Convert this dataframe to an interactive table.\"\n",
              "            style=\"display:none;\">\n",
              "\n",
              "  <svg xmlns=\"http://www.w3.org/2000/svg\" height=\"24px\" viewBox=\"0 -960 960 960\">\n",
              "    <path d=\"M120-120v-720h720v720H120Zm60-500h600v-160H180v160Zm220 220h160v-160H400v160Zm0 220h160v-160H400v160ZM180-400h160v-160H180v160Zm440 0h160v-160H620v160ZM180-180h160v-160H180v160Zm440 0h160v-160H620v160Z\"/>\n",
              "  </svg>\n",
              "    </button>\n",
              "\n",
              "  <style>\n",
              "    .colab-df-container {\n",
              "      display:flex;\n",
              "      gap: 12px;\n",
              "    }\n",
              "\n",
              "    .colab-df-convert {\n",
              "      background-color: #E8F0FE;\n",
              "      border: none;\n",
              "      border-radius: 50%;\n",
              "      cursor: pointer;\n",
              "      display: none;\n",
              "      fill: #1967D2;\n",
              "      height: 32px;\n",
              "      padding: 0 0 0 0;\n",
              "      width: 32px;\n",
              "    }\n",
              "\n",
              "    .colab-df-convert:hover {\n",
              "      background-color: #E2EBFA;\n",
              "      box-shadow: 0px 1px 2px rgba(60, 64, 67, 0.3), 0px 1px 3px 1px rgba(60, 64, 67, 0.15);\n",
              "      fill: #174EA6;\n",
              "    }\n",
              "\n",
              "    .colab-df-buttons div {\n",
              "      margin-bottom: 4px;\n",
              "    }\n",
              "\n",
              "    [theme=dark] .colab-df-convert {\n",
              "      background-color: #3B4455;\n",
              "      fill: #D2E3FC;\n",
              "    }\n",
              "\n",
              "    [theme=dark] .colab-df-convert:hover {\n",
              "      background-color: #434B5C;\n",
              "      box-shadow: 0px 1px 3px 1px rgba(0, 0, 0, 0.15);\n",
              "      filter: drop-shadow(0px 1px 2px rgba(0, 0, 0, 0.3));\n",
              "      fill: #FFFFFF;\n",
              "    }\n",
              "  </style>\n",
              "\n",
              "    <script>\n",
              "      const buttonEl =\n",
              "        document.querySelector('#df-c516fd70-c757-4a1e-9e36-fb69524de63c button.colab-df-convert');\n",
              "      buttonEl.style.display =\n",
              "        google.colab.kernel.accessAllowed ? 'block' : 'none';\n",
              "\n",
              "      async function convertToInteractive(key) {\n",
              "        const element = document.querySelector('#df-c516fd70-c757-4a1e-9e36-fb69524de63c');\n",
              "        const dataTable =\n",
              "          await google.colab.kernel.invokeFunction('convertToInteractive',\n",
              "                                                    [key], {});\n",
              "        if (!dataTable) return;\n",
              "\n",
              "        const docLinkHtml = 'Like what you see? Visit the ' +\n",
              "          '<a target=\"_blank\" href=https://colab.research.google.com/notebooks/data_table.ipynb>data table notebook</a>'\n",
              "          + ' to learn more about interactive tables.';\n",
              "        element.innerHTML = '';\n",
              "        dataTable['output_type'] = 'display_data';\n",
              "        await google.colab.output.renderOutput(dataTable, element);\n",
              "        const docLink = document.createElement('div');\n",
              "        docLink.innerHTML = docLinkHtml;\n",
              "        element.appendChild(docLink);\n",
              "      }\n",
              "    </script>\n",
              "  </div>\n",
              "\n",
              "\n",
              "<div id=\"df-1ba87a50-12b5-4215-85f0-25e0b607d358\">\n",
              "  <button class=\"colab-df-quickchart\" onclick=\"quickchart('df-1ba87a50-12b5-4215-85f0-25e0b607d358')\"\n",
              "            title=\"Suggest charts\"\n",
              "            style=\"display:none;\">\n",
              "\n",
              "<svg xmlns=\"http://www.w3.org/2000/svg\" height=\"24px\"viewBox=\"0 0 24 24\"\n",
              "     width=\"24px\">\n",
              "    <g>\n",
              "        <path d=\"M19 3H5c-1.1 0-2 .9-2 2v14c0 1.1.9 2 2 2h14c1.1 0 2-.9 2-2V5c0-1.1-.9-2-2-2zM9 17H7v-7h2v7zm4 0h-2V7h2v10zm4 0h-2v-4h2v4z\"/>\n",
              "    </g>\n",
              "</svg>\n",
              "  </button>\n",
              "\n",
              "<style>\n",
              "  .colab-df-quickchart {\n",
              "      --bg-color: #E8F0FE;\n",
              "      --fill-color: #1967D2;\n",
              "      --hover-bg-color: #E2EBFA;\n",
              "      --hover-fill-color: #174EA6;\n",
              "      --disabled-fill-color: #AAA;\n",
              "      --disabled-bg-color: #DDD;\n",
              "  }\n",
              "\n",
              "  [theme=dark] .colab-df-quickchart {\n",
              "      --bg-color: #3B4455;\n",
              "      --fill-color: #D2E3FC;\n",
              "      --hover-bg-color: #434B5C;\n",
              "      --hover-fill-color: #FFFFFF;\n",
              "      --disabled-bg-color: #3B4455;\n",
              "      --disabled-fill-color: #666;\n",
              "  }\n",
              "\n",
              "  .colab-df-quickchart {\n",
              "    background-color: var(--bg-color);\n",
              "    border: none;\n",
              "    border-radius: 50%;\n",
              "    cursor: pointer;\n",
              "    display: none;\n",
              "    fill: var(--fill-color);\n",
              "    height: 32px;\n",
              "    padding: 0;\n",
              "    width: 32px;\n",
              "  }\n",
              "\n",
              "  .colab-df-quickchart:hover {\n",
              "    background-color: var(--hover-bg-color);\n",
              "    box-shadow: 0 1px 2px rgba(60, 64, 67, 0.3), 0 1px 3px 1px rgba(60, 64, 67, 0.15);\n",
              "    fill: var(--button-hover-fill-color);\n",
              "  }\n",
              "\n",
              "  .colab-df-quickchart-complete:disabled,\n",
              "  .colab-df-quickchart-complete:disabled:hover {\n",
              "    background-color: var(--disabled-bg-color);\n",
              "    fill: var(--disabled-fill-color);\n",
              "    box-shadow: none;\n",
              "  }\n",
              "\n",
              "  .colab-df-spinner {\n",
              "    border: 2px solid var(--fill-color);\n",
              "    border-color: transparent;\n",
              "    border-bottom-color: var(--fill-color);\n",
              "    animation:\n",
              "      spin 1s steps(1) infinite;\n",
              "  }\n",
              "\n",
              "  @keyframes spin {\n",
              "    0% {\n",
              "      border-color: transparent;\n",
              "      border-bottom-color: var(--fill-color);\n",
              "      border-left-color: var(--fill-color);\n",
              "    }\n",
              "    20% {\n",
              "      border-color: transparent;\n",
              "      border-left-color: var(--fill-color);\n",
              "      border-top-color: var(--fill-color);\n",
              "    }\n",
              "    30% {\n",
              "      border-color: transparent;\n",
              "      border-left-color: var(--fill-color);\n",
              "      border-top-color: var(--fill-color);\n",
              "      border-right-color: var(--fill-color);\n",
              "    }\n",
              "    40% {\n",
              "      border-color: transparent;\n",
              "      border-right-color: var(--fill-color);\n",
              "      border-top-color: var(--fill-color);\n",
              "    }\n",
              "    60% {\n",
              "      border-color: transparent;\n",
              "      border-right-color: var(--fill-color);\n",
              "    }\n",
              "    80% {\n",
              "      border-color: transparent;\n",
              "      border-right-color: var(--fill-color);\n",
              "      border-bottom-color: var(--fill-color);\n",
              "    }\n",
              "    90% {\n",
              "      border-color: transparent;\n",
              "      border-bottom-color: var(--fill-color);\n",
              "    }\n",
              "  }\n",
              "</style>\n",
              "\n",
              "  <script>\n",
              "    async function quickchart(key) {\n",
              "      const quickchartButtonEl =\n",
              "        document.querySelector('#' + key + ' button');\n",
              "      quickchartButtonEl.disabled = true;  // To prevent multiple clicks.\n",
              "      quickchartButtonEl.classList.add('colab-df-spinner');\n",
              "      try {\n",
              "        const charts = await google.colab.kernel.invokeFunction(\n",
              "            'suggestCharts', [key], {});\n",
              "      } catch (error) {\n",
              "        console.error('Error during call to suggestCharts:', error);\n",
              "      }\n",
              "      quickchartButtonEl.classList.remove('colab-df-spinner');\n",
              "      quickchartButtonEl.classList.add('colab-df-quickchart-complete');\n",
              "    }\n",
              "    (() => {\n",
              "      let quickchartButtonEl =\n",
              "        document.querySelector('#df-1ba87a50-12b5-4215-85f0-25e0b607d358 button');\n",
              "      quickchartButtonEl.style.display =\n",
              "        google.colab.kernel.accessAllowed ? 'block' : 'none';\n",
              "    })();\n",
              "  </script>\n",
              "</div>\n",
              "\n",
              "    </div>\n",
              "  </div>\n"
            ],
            "application/vnd.google.colaboratory.intrinsic+json": {
              "type": "dataframe",
              "variable_name": "df",
              "summary": "{\n  \"name\": \"df\",\n  \"rows\": 147,\n  \"fields\": [\n    {\n      \"column\": \"Country\",\n      \"properties\": {\n        \"dtype\": \"string\",\n        \"num_unique_values\": 147,\n        \"samples\": [\n          \"Tanzania (TAN) [TAN]\",\n          \"Grenada (GRN)\",\n          \"Venezuela (VEN)\"\n        ],\n        \"semantic_type\": \"\",\n        \"description\": \"\"\n      }\n    },\n    {\n      \"column\": \"Summer\",\n      \"properties\": {\n        \"dtype\": \"number\",\n        \"std\": 7,\n        \"min\": 1,\n        \"max\": 27,\n        \"num_unique_values\": 27,\n        \"samples\": [\n          8,\n          21,\n          11\n        ],\n        \"semantic_type\": \"\",\n        \"description\": \"\"\n      }\n    },\n    {\n      \"column\": \"Gold_s\",\n      \"properties\": {\n        \"dtype\": \"number\",\n        \"std\": 405,\n        \"min\": 0,\n        \"max\": 4809,\n        \"num_unique_values\": 54,\n        \"samples\": [\n          9,\n          33,\n          39\n        ],\n        \"semantic_type\": \"\",\n        \"description\": \"\"\n      }\n    },\n    {\n      \"column\": \"Silver_s\",\n      \"properties\": {\n        \"dtype\": \"number\",\n        \"std\": 399,\n        \"min\": 0,\n        \"max\": 4775,\n        \"num_unique_values\": 54,\n        \"samples\": [\n          9,\n          25,\n          73\n        ],\n        \"semantic_type\": \"\",\n        \"description\": \"\"\n      }\n    },\n    {\n      \"column\": \"Bronze_s\",\n      \"properties\": {\n        \"dtype\": \"number\",\n        \"std\": 427,\n        \"min\": 0,\n        \"max\": 5130,\n        \"num_unique_values\": 56,\n        \"samples\": [\n          2,\n          177,\n          25\n        ],\n        \"semantic_type\": \"\",\n        \"description\": \"\"\n      }\n    },\n    {\n      \"column\": \"Total_summer\",\n      \"properties\": {\n        \"dtype\": \"number\",\n        \"std\": 1231,\n        \"min\": 0,\n        \"max\": 14714,\n        \"num_unique_values\": 75,\n        \"samples\": [\n          468,\n          76,\n          4\n        ],\n        \"semantic_type\": \"\",\n        \"description\": \"\"\n      }\n    },\n    {\n      \"column\": \"Winter\",\n      \"properties\": {\n        \"dtype\": \"number\",\n        \"std\": 7,\n        \"min\": 0,\n        \"max\": 22,\n        \"num_unique_values\": 21,\n        \"samples\": [\n          0,\n          17,\n          11\n        ],\n        \"semantic_type\": \"\",\n        \"description\": \"\"\n      }\n    },\n    {\n      \"column\": \"Gold_w\",\n      \"properties\": {\n        \"dtype\": \"number\",\n        \"std\": 80,\n        \"min\": 0,\n        \"max\": 959,\n        \"num_unique_values\": 25,\n        \"samples\": [\n          7,\n          10,\n          0\n        ],\n        \"semantic_type\": \"\",\n        \"description\": \"\"\n      }\n    },\n    {\n      \"column\": \"Silver_w\",\n      \"properties\": {\n        \"dtype\": \"number\",\n        \"std\": 80,\n        \"min\": 0,\n        \"max\": 958,\n        \"num_unique_values\": 24,\n        \"samples\": [\n          6,\n          17,\n          0\n        ],\n        \"semantic_type\": \"\",\n        \"description\": \"\"\n      }\n    },\n    {\n      \"column\": \"Bronze_w\",\n      \"properties\": {\n        \"dtype\": \"number\",\n        \"std\": 79,\n        \"min\": 0,\n        \"max\": 948,\n        \"num_unique_values\": 27,\n        \"samples\": [\n          8,\n          35,\n          15\n        ],\n        \"semantic_type\": \"\",\n        \"description\": \"\"\n      }\n    },\n    {\n      \"column\": \"Total_Winter\",\n      \"properties\": {\n        \"dtype\": \"number\",\n        \"std\": 240,\n        \"min\": 0,\n        \"max\": 2865,\n        \"num_unique_values\": 34,\n        \"samples\": [\n          209,\n          26,\n          194\n        ],\n        \"semantic_type\": \"\",\n        \"description\": \"\"\n      }\n    },\n    {\n      \"column\": \"Total_Games\",\n      \"properties\": {\n        \"dtype\": \"number\",\n        \"std\": 13,\n        \"min\": 1,\n        \"max\": 49,\n        \"num_unique_values\": 44,\n        \"samples\": [\n          33,\n          7,\n          22\n        ],\n        \"semantic_type\": \"\",\n        \"description\": \"\"\n      }\n    },\n    {\n      \"column\": \"Tot_Gold\",\n      \"properties\": {\n        \"dtype\": \"number\",\n        \"std\": 485,\n        \"min\": 0,\n        \"max\": 5768,\n        \"num_unique_values\": 55,\n        \"samples\": [\n          15,\n          144,\n          235\n        ],\n        \"semantic_type\": \"\",\n        \"description\": \"\"\n      }\n    },\n    {\n      \"column\": \"Tol_Sil\",\n      \"properties\": {\n        \"dtype\": \"number\",\n        \"std\": 478,\n        \"min\": 0,\n        \"max\": 5733,\n        \"num_unique_values\": 54,\n        \"samples\": [\n          9,\n          204,\n          59\n        ],\n        \"semantic_type\": \"\",\n        \"description\": \"\"\n      }\n    },\n    {\n      \"column\": \"Tol_Bro\",\n      \"properties\": {\n        \"dtype\": \"number\",\n        \"std\": 505,\n        \"min\": 0,\n        \"max\": 6078,\n        \"num_unique_values\": 63,\n        \"samples\": [\n          750,\n          230,\n          2\n        ],\n        \"semantic_type\": \"\",\n        \"description\": \"\"\n      }\n    },\n    {\n      \"column\": \"Combined_total\",\n      \"properties\": {\n        \"dtype\": \"number\",\n        \"std\": 1469,\n        \"min\": 1,\n        \"max\": 17579,\n        \"num_unique_values\": 74,\n        \"samples\": [\n          480,\n          76,\n          34\n        ],\n        \"semantic_type\": \"\",\n        \"description\": \"\"\n      }\n    }\n  ]\n}"
            }
          },
          "metadata": {},
          "execution_count": 18
        }
      ]
    },
    {
      "cell_type": "code",
      "source": [
        "data_types = df.dtypes\n",
        "print(data_types)\n",
        "#check data typy"
      ],
      "metadata": {
        "colab": {
          "base_uri": "https://localhost:8080/"
        },
        "id": "EXwav58qCdjw",
        "outputId": "e7a18b2e-0ef3-4a23-c24c-206dd996379f"
      },
      "execution_count": null,
      "outputs": [
        {
          "output_type": "stream",
          "name": "stdout",
          "text": [
            "Country           object\n",
            "Summer             int64\n",
            "Gold_s             int64\n",
            "Silver_s           int64\n",
            "Bronze_s           int64\n",
            "Total_summer       int64\n",
            "Winter             int64\n",
            "Gold_w             int64\n",
            "Silver_w           int64\n",
            "Bronze_w           int64\n",
            "Total_Winter       int64\n",
            "Total_Games        int64\n",
            "Tot_Gold           int64\n",
            "Tol_Sil            int64\n",
            "Tol_Bro            int64\n",
            "Combined_total     int64\n",
            "dtype: object\n"
          ]
        }
      ]
    },
    {
      "cell_type": "code",
      "source": [
        "df = pd.read_csv('olympics.csv',header=1)\n",
        "duplicate_rows = df.duplicated()\n",
        "df.duplicated().sum()\n",
        "#check duplicate\n"
      ],
      "metadata": {
        "colab": {
          "base_uri": "https://localhost:8080/"
        },
        "id": "KUJjL8w3CqOF",
        "outputId": "4b557ab2-ab99-4189-8613-7779f835ce8e"
      },
      "execution_count": null,
      "outputs": [
        {
          "output_type": "execute_result",
          "data": {
            "text/plain": [
              "0"
            ]
          },
          "metadata": {},
          "execution_count": 20
        }
      ]
    },
    {
      "cell_type": "code",
      "source": [
        "format\n",
        "df.isnull()\n",
        "#check no missing vaule"
      ],
      "metadata": {
        "colab": {
          "base_uri": "https://localhost:8080/",
          "height": 423
        },
        "id": "g35tdUOpCr1s",
        "outputId": "c2a7f594-5bab-45c8-c26e-b4562ac8d97f"
      },
      "execution_count": null,
      "outputs": [
        {
          "output_type": "execute_result",
          "data": {
            "text/plain": [
              "     Country  Summer  Gold_s  Silver_s  Bronze_s  Total_summer  Winter  \\\n",
              "0      False   False   False     False     False         False   False   \n",
              "1      False   False   False     False     False         False   False   \n",
              "2      False   False   False     False     False         False   False   \n",
              "3      False   False   False     False     False         False   False   \n",
              "4      False   False   False     False     False         False   False   \n",
              "..       ...     ...     ...       ...       ...           ...     ...   \n",
              "142    False   False   False     False     False         False   False   \n",
              "143    False   False   False     False     False         False   False   \n",
              "144    False   False   False     False     False         False   False   \n",
              "145    False   False   False     False     False         False   False   \n",
              "146    False   False   False     False     False         False   False   \n",
              "\n",
              "     Gold_w  Silver_w  Bronze_w  Total_Winter  Total_Games  Tot_Gold  Tol_Sil  \\\n",
              "0     False     False     False         False        False     False    False   \n",
              "1     False     False     False         False        False     False    False   \n",
              "2     False     False     False         False        False     False    False   \n",
              "3     False     False     False         False        False     False    False   \n",
              "4     False     False     False         False        False     False    False   \n",
              "..      ...       ...       ...           ...          ...       ...      ...   \n",
              "142   False     False     False         False        False     False    False   \n",
              "143   False     False     False         False        False     False    False   \n",
              "144   False     False     False         False        False     False    False   \n",
              "145   False     False     False         False        False     False    False   \n",
              "146   False     False     False         False        False     False    False   \n",
              "\n",
              "     Tol_Bro  Combined_total  \n",
              "0      False           False  \n",
              "1      False           False  \n",
              "2      False           False  \n",
              "3      False           False  \n",
              "4      False           False  \n",
              "..       ...             ...  \n",
              "142    False           False  \n",
              "143    False           False  \n",
              "144    False           False  \n",
              "145    False           False  \n",
              "146    False           False  \n",
              "\n",
              "[147 rows x 16 columns]"
            ],
            "text/html": [
              "\n",
              "  <div id=\"df-1cb71fbe-b552-47b6-bc4f-9667b0391771\" class=\"colab-df-container\">\n",
              "    <div>\n",
              "<style scoped>\n",
              "    .dataframe tbody tr th:only-of-type {\n",
              "        vertical-align: middle;\n",
              "    }\n",
              "\n",
              "    .dataframe tbody tr th {\n",
              "        vertical-align: top;\n",
              "    }\n",
              "\n",
              "    .dataframe thead th {\n",
              "        text-align: right;\n",
              "    }\n",
              "</style>\n",
              "<table border=\"1\" class=\"dataframe\">\n",
              "  <thead>\n",
              "    <tr style=\"text-align: right;\">\n",
              "      <th></th>\n",
              "      <th>Country</th>\n",
              "      <th>Summer</th>\n",
              "      <th>Gold_s</th>\n",
              "      <th>Silver_s</th>\n",
              "      <th>Bronze_s</th>\n",
              "      <th>Total_summer</th>\n",
              "      <th>Winter</th>\n",
              "      <th>Gold_w</th>\n",
              "      <th>Silver_w</th>\n",
              "      <th>Bronze_w</th>\n",
              "      <th>Total_Winter</th>\n",
              "      <th>Total_Games</th>\n",
              "      <th>Tot_Gold</th>\n",
              "      <th>Tol_Sil</th>\n",
              "      <th>Tol_Bro</th>\n",
              "      <th>Combined_total</th>\n",
              "    </tr>\n",
              "  </thead>\n",
              "  <tbody>\n",
              "    <tr>\n",
              "      <th>0</th>\n",
              "      <td>False</td>\n",
              "      <td>False</td>\n",
              "      <td>False</td>\n",
              "      <td>False</td>\n",
              "      <td>False</td>\n",
              "      <td>False</td>\n",
              "      <td>False</td>\n",
              "      <td>False</td>\n",
              "      <td>False</td>\n",
              "      <td>False</td>\n",
              "      <td>False</td>\n",
              "      <td>False</td>\n",
              "      <td>False</td>\n",
              "      <td>False</td>\n",
              "      <td>False</td>\n",
              "      <td>False</td>\n",
              "    </tr>\n",
              "    <tr>\n",
              "      <th>1</th>\n",
              "      <td>False</td>\n",
              "      <td>False</td>\n",
              "      <td>False</td>\n",
              "      <td>False</td>\n",
              "      <td>False</td>\n",
              "      <td>False</td>\n",
              "      <td>False</td>\n",
              "      <td>False</td>\n",
              "      <td>False</td>\n",
              "      <td>False</td>\n",
              "      <td>False</td>\n",
              "      <td>False</td>\n",
              "      <td>False</td>\n",
              "      <td>False</td>\n",
              "      <td>False</td>\n",
              "      <td>False</td>\n",
              "    </tr>\n",
              "    <tr>\n",
              "      <th>2</th>\n",
              "      <td>False</td>\n",
              "      <td>False</td>\n",
              "      <td>False</td>\n",
              "      <td>False</td>\n",
              "      <td>False</td>\n",
              "      <td>False</td>\n",
              "      <td>False</td>\n",
              "      <td>False</td>\n",
              "      <td>False</td>\n",
              "      <td>False</td>\n",
              "      <td>False</td>\n",
              "      <td>False</td>\n",
              "      <td>False</td>\n",
              "      <td>False</td>\n",
              "      <td>False</td>\n",
              "      <td>False</td>\n",
              "    </tr>\n",
              "    <tr>\n",
              "      <th>3</th>\n",
              "      <td>False</td>\n",
              "      <td>False</td>\n",
              "      <td>False</td>\n",
              "      <td>False</td>\n",
              "      <td>False</td>\n",
              "      <td>False</td>\n",
              "      <td>False</td>\n",
              "      <td>False</td>\n",
              "      <td>False</td>\n",
              "      <td>False</td>\n",
              "      <td>False</td>\n",
              "      <td>False</td>\n",
              "      <td>False</td>\n",
              "      <td>False</td>\n",
              "      <td>False</td>\n",
              "      <td>False</td>\n",
              "    </tr>\n",
              "    <tr>\n",
              "      <th>4</th>\n",
              "      <td>False</td>\n",
              "      <td>False</td>\n",
              "      <td>False</td>\n",
              "      <td>False</td>\n",
              "      <td>False</td>\n",
              "      <td>False</td>\n",
              "      <td>False</td>\n",
              "      <td>False</td>\n",
              "      <td>False</td>\n",
              "      <td>False</td>\n",
              "      <td>False</td>\n",
              "      <td>False</td>\n",
              "      <td>False</td>\n",
              "      <td>False</td>\n",
              "      <td>False</td>\n",
              "      <td>False</td>\n",
              "    </tr>\n",
              "    <tr>\n",
              "      <th>...</th>\n",
              "      <td>...</td>\n",
              "      <td>...</td>\n",
              "      <td>...</td>\n",
              "      <td>...</td>\n",
              "      <td>...</td>\n",
              "      <td>...</td>\n",
              "      <td>...</td>\n",
              "      <td>...</td>\n",
              "      <td>...</td>\n",
              "      <td>...</td>\n",
              "      <td>...</td>\n",
              "      <td>...</td>\n",
              "      <td>...</td>\n",
              "      <td>...</td>\n",
              "      <td>...</td>\n",
              "      <td>...</td>\n",
              "    </tr>\n",
              "    <tr>\n",
              "      <th>142</th>\n",
              "      <td>False</td>\n",
              "      <td>False</td>\n",
              "      <td>False</td>\n",
              "      <td>False</td>\n",
              "      <td>False</td>\n",
              "      <td>False</td>\n",
              "      <td>False</td>\n",
              "      <td>False</td>\n",
              "      <td>False</td>\n",
              "      <td>False</td>\n",
              "      <td>False</td>\n",
              "      <td>False</td>\n",
              "      <td>False</td>\n",
              "      <td>False</td>\n",
              "      <td>False</td>\n",
              "      <td>False</td>\n",
              "    </tr>\n",
              "    <tr>\n",
              "      <th>143</th>\n",
              "      <td>False</td>\n",
              "      <td>False</td>\n",
              "      <td>False</td>\n",
              "      <td>False</td>\n",
              "      <td>False</td>\n",
              "      <td>False</td>\n",
              "      <td>False</td>\n",
              "      <td>False</td>\n",
              "      <td>False</td>\n",
              "      <td>False</td>\n",
              "      <td>False</td>\n",
              "      <td>False</td>\n",
              "      <td>False</td>\n",
              "      <td>False</td>\n",
              "      <td>False</td>\n",
              "      <td>False</td>\n",
              "    </tr>\n",
              "    <tr>\n",
              "      <th>144</th>\n",
              "      <td>False</td>\n",
              "      <td>False</td>\n",
              "      <td>False</td>\n",
              "      <td>False</td>\n",
              "      <td>False</td>\n",
              "      <td>False</td>\n",
              "      <td>False</td>\n",
              "      <td>False</td>\n",
              "      <td>False</td>\n",
              "      <td>False</td>\n",
              "      <td>False</td>\n",
              "      <td>False</td>\n",
              "      <td>False</td>\n",
              "      <td>False</td>\n",
              "      <td>False</td>\n",
              "      <td>False</td>\n",
              "    </tr>\n",
              "    <tr>\n",
              "      <th>145</th>\n",
              "      <td>False</td>\n",
              "      <td>False</td>\n",
              "      <td>False</td>\n",
              "      <td>False</td>\n",
              "      <td>False</td>\n",
              "      <td>False</td>\n",
              "      <td>False</td>\n",
              "      <td>False</td>\n",
              "      <td>False</td>\n",
              "      <td>False</td>\n",
              "      <td>False</td>\n",
              "      <td>False</td>\n",
              "      <td>False</td>\n",
              "      <td>False</td>\n",
              "      <td>False</td>\n",
              "      <td>False</td>\n",
              "    </tr>\n",
              "    <tr>\n",
              "      <th>146</th>\n",
              "      <td>False</td>\n",
              "      <td>False</td>\n",
              "      <td>False</td>\n",
              "      <td>False</td>\n",
              "      <td>False</td>\n",
              "      <td>False</td>\n",
              "      <td>False</td>\n",
              "      <td>False</td>\n",
              "      <td>False</td>\n",
              "      <td>False</td>\n",
              "      <td>False</td>\n",
              "      <td>False</td>\n",
              "      <td>False</td>\n",
              "      <td>False</td>\n",
              "      <td>False</td>\n",
              "      <td>False</td>\n",
              "    </tr>\n",
              "  </tbody>\n",
              "</table>\n",
              "<p>147 rows × 16 columns</p>\n",
              "</div>\n",
              "    <div class=\"colab-df-buttons\">\n",
              "\n",
              "  <div class=\"colab-df-container\">\n",
              "    <button class=\"colab-df-convert\" onclick=\"convertToInteractive('df-1cb71fbe-b552-47b6-bc4f-9667b0391771')\"\n",
              "            title=\"Convert this dataframe to an interactive table.\"\n",
              "            style=\"display:none;\">\n",
              "\n",
              "  <svg xmlns=\"http://www.w3.org/2000/svg\" height=\"24px\" viewBox=\"0 -960 960 960\">\n",
              "    <path d=\"M120-120v-720h720v720H120Zm60-500h600v-160H180v160Zm220 220h160v-160H400v160Zm0 220h160v-160H400v160ZM180-400h160v-160H180v160Zm440 0h160v-160H620v160ZM180-180h160v-160H180v160Zm440 0h160v-160H620v160Z\"/>\n",
              "  </svg>\n",
              "    </button>\n",
              "\n",
              "  <style>\n",
              "    .colab-df-container {\n",
              "      display:flex;\n",
              "      gap: 12px;\n",
              "    }\n",
              "\n",
              "    .colab-df-convert {\n",
              "      background-color: #E8F0FE;\n",
              "      border: none;\n",
              "      border-radius: 50%;\n",
              "      cursor: pointer;\n",
              "      display: none;\n",
              "      fill: #1967D2;\n",
              "      height: 32px;\n",
              "      padding: 0 0 0 0;\n",
              "      width: 32px;\n",
              "    }\n",
              "\n",
              "    .colab-df-convert:hover {\n",
              "      background-color: #E2EBFA;\n",
              "      box-shadow: 0px 1px 2px rgba(60, 64, 67, 0.3), 0px 1px 3px 1px rgba(60, 64, 67, 0.15);\n",
              "      fill: #174EA6;\n",
              "    }\n",
              "\n",
              "    .colab-df-buttons div {\n",
              "      margin-bottom: 4px;\n",
              "    }\n",
              "\n",
              "    [theme=dark] .colab-df-convert {\n",
              "      background-color: #3B4455;\n",
              "      fill: #D2E3FC;\n",
              "    }\n",
              "\n",
              "    [theme=dark] .colab-df-convert:hover {\n",
              "      background-color: #434B5C;\n",
              "      box-shadow: 0px 1px 3px 1px rgba(0, 0, 0, 0.15);\n",
              "      filter: drop-shadow(0px 1px 2px rgba(0, 0, 0, 0.3));\n",
              "      fill: #FFFFFF;\n",
              "    }\n",
              "  </style>\n",
              "\n",
              "    <script>\n",
              "      const buttonEl =\n",
              "        document.querySelector('#df-1cb71fbe-b552-47b6-bc4f-9667b0391771 button.colab-df-convert');\n",
              "      buttonEl.style.display =\n",
              "        google.colab.kernel.accessAllowed ? 'block' : 'none';\n",
              "\n",
              "      async function convertToInteractive(key) {\n",
              "        const element = document.querySelector('#df-1cb71fbe-b552-47b6-bc4f-9667b0391771');\n",
              "        const dataTable =\n",
              "          await google.colab.kernel.invokeFunction('convertToInteractive',\n",
              "                                                    [key], {});\n",
              "        if (!dataTable) return;\n",
              "\n",
              "        const docLinkHtml = 'Like what you see? Visit the ' +\n",
              "          '<a target=\"_blank\" href=https://colab.research.google.com/notebooks/data_table.ipynb>data table notebook</a>'\n",
              "          + ' to learn more about interactive tables.';\n",
              "        element.innerHTML = '';\n",
              "        dataTable['output_type'] = 'display_data';\n",
              "        await google.colab.output.renderOutput(dataTable, element);\n",
              "        const docLink = document.createElement('div');\n",
              "        docLink.innerHTML = docLinkHtml;\n",
              "        element.appendChild(docLink);\n",
              "      }\n",
              "    </script>\n",
              "  </div>\n",
              "\n",
              "\n",
              "<div id=\"df-9848476a-34c1-4118-afc8-ee4049fb2b0e\">\n",
              "  <button class=\"colab-df-quickchart\" onclick=\"quickchart('df-9848476a-34c1-4118-afc8-ee4049fb2b0e')\"\n",
              "            title=\"Suggest charts\"\n",
              "            style=\"display:none;\">\n",
              "\n",
              "<svg xmlns=\"http://www.w3.org/2000/svg\" height=\"24px\"viewBox=\"0 0 24 24\"\n",
              "     width=\"24px\">\n",
              "    <g>\n",
              "        <path d=\"M19 3H5c-1.1 0-2 .9-2 2v14c0 1.1.9 2 2 2h14c1.1 0 2-.9 2-2V5c0-1.1-.9-2-2-2zM9 17H7v-7h2v7zm4 0h-2V7h2v10zm4 0h-2v-4h2v4z\"/>\n",
              "    </g>\n",
              "</svg>\n",
              "  </button>\n",
              "\n",
              "<style>\n",
              "  .colab-df-quickchart {\n",
              "      --bg-color: #E8F0FE;\n",
              "      --fill-color: #1967D2;\n",
              "      --hover-bg-color: #E2EBFA;\n",
              "      --hover-fill-color: #174EA6;\n",
              "      --disabled-fill-color: #AAA;\n",
              "      --disabled-bg-color: #DDD;\n",
              "  }\n",
              "\n",
              "  [theme=dark] .colab-df-quickchart {\n",
              "      --bg-color: #3B4455;\n",
              "      --fill-color: #D2E3FC;\n",
              "      --hover-bg-color: #434B5C;\n",
              "      --hover-fill-color: #FFFFFF;\n",
              "      --disabled-bg-color: #3B4455;\n",
              "      --disabled-fill-color: #666;\n",
              "  }\n",
              "\n",
              "  .colab-df-quickchart {\n",
              "    background-color: var(--bg-color);\n",
              "    border: none;\n",
              "    border-radius: 50%;\n",
              "    cursor: pointer;\n",
              "    display: none;\n",
              "    fill: var(--fill-color);\n",
              "    height: 32px;\n",
              "    padding: 0;\n",
              "    width: 32px;\n",
              "  }\n",
              "\n",
              "  .colab-df-quickchart:hover {\n",
              "    background-color: var(--hover-bg-color);\n",
              "    box-shadow: 0 1px 2px rgba(60, 64, 67, 0.3), 0 1px 3px 1px rgba(60, 64, 67, 0.15);\n",
              "    fill: var(--button-hover-fill-color);\n",
              "  }\n",
              "\n",
              "  .colab-df-quickchart-complete:disabled,\n",
              "  .colab-df-quickchart-complete:disabled:hover {\n",
              "    background-color: var(--disabled-bg-color);\n",
              "    fill: var(--disabled-fill-color);\n",
              "    box-shadow: none;\n",
              "  }\n",
              "\n",
              "  .colab-df-spinner {\n",
              "    border: 2px solid var(--fill-color);\n",
              "    border-color: transparent;\n",
              "    border-bottom-color: var(--fill-color);\n",
              "    animation:\n",
              "      spin 1s steps(1) infinite;\n",
              "  }\n",
              "\n",
              "  @keyframes spin {\n",
              "    0% {\n",
              "      border-color: transparent;\n",
              "      border-bottom-color: var(--fill-color);\n",
              "      border-left-color: var(--fill-color);\n",
              "    }\n",
              "    20% {\n",
              "      border-color: transparent;\n",
              "      border-left-color: var(--fill-color);\n",
              "      border-top-color: var(--fill-color);\n",
              "    }\n",
              "    30% {\n",
              "      border-color: transparent;\n",
              "      border-left-color: var(--fill-color);\n",
              "      border-top-color: var(--fill-color);\n",
              "      border-right-color: var(--fill-color);\n",
              "    }\n",
              "    40% {\n",
              "      border-color: transparent;\n",
              "      border-right-color: var(--fill-color);\n",
              "      border-top-color: var(--fill-color);\n",
              "    }\n",
              "    60% {\n",
              "      border-color: transparent;\n",
              "      border-right-color: var(--fill-color);\n",
              "    }\n",
              "    80% {\n",
              "      border-color: transparent;\n",
              "      border-right-color: var(--fill-color);\n",
              "      border-bottom-color: var(--fill-color);\n",
              "    }\n",
              "    90% {\n",
              "      border-color: transparent;\n",
              "      border-bottom-color: var(--fill-color);\n",
              "    }\n",
              "  }\n",
              "</style>\n",
              "\n",
              "  <script>\n",
              "    async function quickchart(key) {\n",
              "      const quickchartButtonEl =\n",
              "        document.querySelector('#' + key + ' button');\n",
              "      quickchartButtonEl.disabled = true;  // To prevent multiple clicks.\n",
              "      quickchartButtonEl.classList.add('colab-df-spinner');\n",
              "      try {\n",
              "        const charts = await google.colab.kernel.invokeFunction(\n",
              "            'suggestCharts', [key], {});\n",
              "      } catch (error) {\n",
              "        console.error('Error during call to suggestCharts:', error);\n",
              "      }\n",
              "      quickchartButtonEl.classList.remove('colab-df-spinner');\n",
              "      quickchartButtonEl.classList.add('colab-df-quickchart-complete');\n",
              "    }\n",
              "    (() => {\n",
              "      let quickchartButtonEl =\n",
              "        document.querySelector('#df-9848476a-34c1-4118-afc8-ee4049fb2b0e button');\n",
              "      quickchartButtonEl.style.display =\n",
              "        google.colab.kernel.accessAllowed ? 'block' : 'none';\n",
              "    })();\n",
              "  </script>\n",
              "</div>\n",
              "\n",
              "    </div>\n",
              "  </div>\n"
            ],
            "application/vnd.google.colaboratory.intrinsic+json": {
              "type": "dataframe",
              "summary": "{\n  \"name\": \"#check no missing vaule\",\n  \"rows\": 147,\n  \"fields\": [\n    {\n      \"column\": \"Country\",\n      \"properties\": {\n        \"dtype\": \"boolean\",\n        \"num_unique_values\": 1,\n        \"samples\": [\n          false\n        ],\n        \"semantic_type\": \"\",\n        \"description\": \"\"\n      }\n    },\n    {\n      \"column\": \"Summer\",\n      \"properties\": {\n        \"dtype\": \"boolean\",\n        \"num_unique_values\": 1,\n        \"samples\": [\n          false\n        ],\n        \"semantic_type\": \"\",\n        \"description\": \"\"\n      }\n    },\n    {\n      \"column\": \"Gold_s\",\n      \"properties\": {\n        \"dtype\": \"boolean\",\n        \"num_unique_values\": 1,\n        \"samples\": [\n          false\n        ],\n        \"semantic_type\": \"\",\n        \"description\": \"\"\n      }\n    },\n    {\n      \"column\": \"Silver_s\",\n      \"properties\": {\n        \"dtype\": \"boolean\",\n        \"num_unique_values\": 1,\n        \"samples\": [\n          false\n        ],\n        \"semantic_type\": \"\",\n        \"description\": \"\"\n      }\n    },\n    {\n      \"column\": \"Bronze_s\",\n      \"properties\": {\n        \"dtype\": \"boolean\",\n        \"num_unique_values\": 1,\n        \"samples\": [\n          false\n        ],\n        \"semantic_type\": \"\",\n        \"description\": \"\"\n      }\n    },\n    {\n      \"column\": \"Total_summer\",\n      \"properties\": {\n        \"dtype\": \"boolean\",\n        \"num_unique_values\": 1,\n        \"samples\": [\n          false\n        ],\n        \"semantic_type\": \"\",\n        \"description\": \"\"\n      }\n    },\n    {\n      \"column\": \"Winter\",\n      \"properties\": {\n        \"dtype\": \"boolean\",\n        \"num_unique_values\": 1,\n        \"samples\": [\n          false\n        ],\n        \"semantic_type\": \"\",\n        \"description\": \"\"\n      }\n    },\n    {\n      \"column\": \"Gold_w\",\n      \"properties\": {\n        \"dtype\": \"boolean\",\n        \"num_unique_values\": 1,\n        \"samples\": [\n          false\n        ],\n        \"semantic_type\": \"\",\n        \"description\": \"\"\n      }\n    },\n    {\n      \"column\": \"Silver_w\",\n      \"properties\": {\n        \"dtype\": \"boolean\",\n        \"num_unique_values\": 1,\n        \"samples\": [\n          false\n        ],\n        \"semantic_type\": \"\",\n        \"description\": \"\"\n      }\n    },\n    {\n      \"column\": \"Bronze_w\",\n      \"properties\": {\n        \"dtype\": \"boolean\",\n        \"num_unique_values\": 1,\n        \"samples\": [\n          false\n        ],\n        \"semantic_type\": \"\",\n        \"description\": \"\"\n      }\n    },\n    {\n      \"column\": \"Total_Winter\",\n      \"properties\": {\n        \"dtype\": \"boolean\",\n        \"num_unique_values\": 1,\n        \"samples\": [\n          false\n        ],\n        \"semantic_type\": \"\",\n        \"description\": \"\"\n      }\n    },\n    {\n      \"column\": \"Total_Games\",\n      \"properties\": {\n        \"dtype\": \"boolean\",\n        \"num_unique_values\": 1,\n        \"samples\": [\n          false\n        ],\n        \"semantic_type\": \"\",\n        \"description\": \"\"\n      }\n    },\n    {\n      \"column\": \"Tot_Gold\",\n      \"properties\": {\n        \"dtype\": \"boolean\",\n        \"num_unique_values\": 1,\n        \"samples\": [\n          false\n        ],\n        \"semantic_type\": \"\",\n        \"description\": \"\"\n      }\n    },\n    {\n      \"column\": \"Tol_Sil\",\n      \"properties\": {\n        \"dtype\": \"boolean\",\n        \"num_unique_values\": 1,\n        \"samples\": [\n          false\n        ],\n        \"semantic_type\": \"\",\n        \"description\": \"\"\n      }\n    },\n    {\n      \"column\": \"Tol_Bro\",\n      \"properties\": {\n        \"dtype\": \"boolean\",\n        \"num_unique_values\": 1,\n        \"samples\": [\n          false\n        ],\n        \"semantic_type\": \"\",\n        \"description\": \"\"\n      }\n    },\n    {\n      \"column\": \"Combined_total\",\n      \"properties\": {\n        \"dtype\": \"boolean\",\n        \"num_unique_values\": 1,\n        \"samples\": [\n          false\n        ],\n        \"semantic_type\": \"\",\n        \"description\": \"\"\n      }\n    }\n  ]\n}"
            }
          },
          "metadata": {},
          "execution_count": 24
        }
      ]
    },
    {
      "cell_type": "code",
      "source": [
        "df.loc[~df['Country'].astype(str).str.isdigit(), 'Country'].tolist()"
      ],
      "metadata": {
        "colab": {
          "base_uri": "https://localhost:8080/"
        },
        "id": "dUIG60rUGI8n",
        "outputId": "e2afa990-3859-49c7-cb69-eb0539d5f773"
      },
      "execution_count": null,
      "outputs": [
        {
          "output_type": "execute_result",
          "data": {
            "text/plain": [
              "['Afghanistan (AFG)',\n",
              " 'Algeria (ALG)',\n",
              " 'Argentina (ARG)',\n",
              " 'Armenia (ARM)',\n",
              " 'Australasia (ANZ) [ANZ]',\n",
              " 'Australia (AUS) [AUS] [Z]',\n",
              " 'Austria (AUT)',\n",
              " 'Azerbaijan (AZE)',\n",
              " 'Bahamas (BAH)',\n",
              " 'Bahrain (BRN)',\n",
              " 'Barbados (BAR) [BAR]',\n",
              " 'Belarus (BLR)',\n",
              " 'Belgium (BEL)',\n",
              " 'Bermuda (BER)',\n",
              " 'Bohemia (BOH) [BOH] [Z]',\n",
              " 'Botswana (BOT)',\n",
              " 'Brazil (BRA)',\n",
              " 'British West Indies (BWI) [BWI]',\n",
              " 'Bulgaria (BUL) [H]',\n",
              " 'Burundi (BDI)',\n",
              " 'Cameroon (CMR)',\n",
              " 'Canada (CAN)',\n",
              " 'Chile (CHI) [I]',\n",
              " 'China (CHN) [CHN]',\n",
              " 'Colombia (COL)',\n",
              " 'Costa Rica (CRC)',\n",
              " 'Ivory Coast (CIV) [CIV]',\n",
              " 'Croatia (CRO)',\n",
              " 'Cuba (CUB) [Z]',\n",
              " 'Cyprus (CYP)',\n",
              " 'Czech Republic (CZE) [CZE]',\n",
              " 'Czechoslovakia (TCH) [TCH]',\n",
              " 'Denmark (DEN) [Z]',\n",
              " 'Djibouti (DJI) [B]',\n",
              " 'Dominican Republic (DOM)',\n",
              " 'Ecuador (ECU)',\n",
              " 'Egypt (EGY) [EGY] [Z]',\n",
              " 'Eritrea (ERI)',\n",
              " 'Estonia (EST)',\n",
              " 'Ethiopia (ETH)',\n",
              " 'Finland (FIN)',\n",
              " 'France (FRA) [O] [P] [Z]',\n",
              " 'Gabon (GAB)',\n",
              " 'Georgia (GEO)',\n",
              " 'Germany (GER) [GER] [Z]',\n",
              " 'United Team of Germany (EUA) [EUA]',\n",
              " 'East Germany (GDR) [GDR]',\n",
              " 'West Germany (FRG) [FRG]',\n",
              " 'Ghana (GHA) [GHA]',\n",
              " 'Great Britain (GBR) [GBR] [Z]',\n",
              " 'Greece (GRE) [Z]',\n",
              " 'Grenada (GRN)',\n",
              " 'Guatemala (GUA)',\n",
              " 'Guyana (GUY) [GUY]',\n",
              " 'Haiti (HAI) [J]',\n",
              " 'Hong Kong (HKG) [HKG]',\n",
              " 'Hungary (HUN)',\n",
              " 'Iceland (ISL)',\n",
              " 'India (IND) [F]',\n",
              " 'Indonesia (INA)',\n",
              " 'Iran (IRI) [K]',\n",
              " 'Iraq (IRQ)',\n",
              " 'Ireland (IRL)',\n",
              " 'Israel (ISR)',\n",
              " 'Italy (ITA) [M] [S]',\n",
              " 'Jamaica (JAM) [JAM]',\n",
              " 'Japan (JPN)',\n",
              " 'Kazakhstan (KAZ)',\n",
              " 'Kenya (KEN)',\n",
              " 'North Korea (PRK)',\n",
              " 'South Korea (KOR)',\n",
              " 'Kuwait (KUW)',\n",
              " 'Kyrgyzstan (KGZ)',\n",
              " 'Latvia (LAT)',\n",
              " 'Lebanon (LIB)',\n",
              " 'Liechtenstein (LIE)',\n",
              " 'Lithuania (LTU)',\n",
              " 'Luxembourg (LUX) [O]',\n",
              " 'Macedonia (MKD)',\n",
              " 'Malaysia (MAS) [MAS]',\n",
              " 'Mauritius (MRI)',\n",
              " 'Mexico (MEX)',\n",
              " 'Moldova (MDA)',\n",
              " 'Mongolia (MGL)',\n",
              " 'Montenegro (MNE)',\n",
              " 'Morocco (MAR)',\n",
              " 'Mozambique (MOZ)',\n",
              " 'Namibia (NAM)',\n",
              " 'Netherlands (NED) [Z]',\n",
              " 'Netherlands Antilles (AHO) [AHO] [I]',\n",
              " 'New Zealand (NZL) [NZL]',\n",
              " 'Niger (NIG)',\n",
              " 'Nigeria (NGR)',\n",
              " 'Norway (NOR) [Q]',\n",
              " 'Pakistan (PAK)',\n",
              " 'Panama (PAN)',\n",
              " 'Paraguay (PAR)',\n",
              " 'Peru (PER) [L]',\n",
              " 'Philippines (PHI)',\n",
              " 'Poland (POL)',\n",
              " 'Portugal (POR)',\n",
              " 'Puerto Rico (PUR)',\n",
              " 'Qatar (QAT)',\n",
              " 'Romania (ROU)',\n",
              " 'Russia (RUS) [RUS]',\n",
              " 'Russian Empire (RU1) [RU1]',\n",
              " 'Soviet Union (URS) [URS]',\n",
              " 'Unified Team (EUN) [EUN]',\n",
              " 'Saudi Arabia (KSA)',\n",
              " 'Senegal (SEN)',\n",
              " 'Serbia (SRB) [SRB]',\n",
              " 'Serbia and Montenegro (SCG) [SCG]',\n",
              " 'Singapore (SIN)',\n",
              " 'Slovakia (SVK) [SVK]',\n",
              " 'Slovenia (SLO)',\n",
              " 'South Africa (RSA)',\n",
              " 'Spain (ESP) [Z]',\n",
              " 'Sri Lanka (SRI) [SRI]',\n",
              " 'Sudan (SUD)',\n",
              " 'Suriname (SUR) [E]',\n",
              " 'Sweden (SWE) [Z]',\n",
              " 'Switzerland (SUI)',\n",
              " 'Syria (SYR)',\n",
              " 'Chinese Taipei (TPE) [TPE] [TPE2]',\n",
              " 'Tajikistan (TJK)',\n",
              " 'Tanzania (TAN) [TAN]',\n",
              " 'Thailand (THA)',\n",
              " 'Togo (TOG)',\n",
              " 'Tonga (TGA)',\n",
              " 'Trinidad and Tobago (TRI) [TRI]',\n",
              " 'Tunisia (TUN)',\n",
              " 'Turkey (TUR)',\n",
              " 'Uganda (UGA)',\n",
              " 'Ukraine (UKR)',\n",
              " 'United Arab Emirates (UAE)',\n",
              " 'United States (USA) [P] [Q] [R] [Z]',\n",
              " 'Uruguay (URU)',\n",
              " 'Uzbekistan (UZB)',\n",
              " 'Venezuela (VEN)',\n",
              " 'Vietnam (VIE)',\n",
              " 'Virgin Islands (ISV)',\n",
              " 'Yugoslavia (YUG) [YUG]',\n",
              " 'Independent Olympic Participants (IOP) [IOP]',\n",
              " 'Zambia (ZAM) [ZAM]',\n",
              " 'Zimbabwe (ZIM) [ZIM]',\n",
              " 'Mixed team (ZZX) [ZZX]',\n",
              " 'Totals']"
            ]
          },
          "metadata": {},
          "execution_count": 25
        }
      ]
    },
    {
      "cell_type": "code",
      "source": [
        "# Select specific columns\n",
        "selected_columns = ['Gold_s', 'Silver_s', 'Bronze_s', 'Gold_w', 'Silver_w', 'Bronze_w']\n",
        "\n",
        "# Calculate summary statistics for selected columns\n",
        "summary = df[selected_columns].iloc[:-1].describe()\n",
        "\n",
        "# Print the summary statistics\n",
        "print(summary)"
      ],
      "metadata": {
        "colab": {
          "base_uri": "https://localhost:8080/"
        },
        "id": "Pza8sx0JI3Fp",
        "outputId": "e77410a1-b38f-4bf9-bfe6-5c37a1512499"
      },
      "execution_count": null,
      "outputs": [
        {
          "output_type": "stream",
          "name": "stdout",
          "text": [
            "           Gold_s    Silver_s    Bronze_s      Gold_w    Silver_w    Bronze_w\n",
            "count  146.000000  146.000000  146.000000  146.000000  146.000000  146.000000\n",
            "mean    32.938356   32.705479   35.136986    6.568493    6.561644    6.493151\n",
            "std     96.745184   80.648421   77.118416   18.975086   18.606996   17.499654\n",
            "min      0.000000    0.000000    0.000000    0.000000    0.000000    0.000000\n",
            "25%      0.000000    1.000000    1.000000    0.000000    0.000000    0.000000\n",
            "50%      3.000000    4.000000    6.000000    0.000000    0.000000    0.000000\n",
            "75%     23.000000   26.750000   28.750000    0.750000    1.750000    1.000000\n",
            "max    976.000000  757.000000  666.000000  118.000000  111.000000  100.000000\n"
          ]
        }
      ]
    },
    {
      "cell_type": "code",
      "source": [
        "import seaborn as sns\n",
        "sns.distplot(df['Gold_s'])"
      ],
      "metadata": {
        "colab": {
          "base_uri": "https://localhost:8080/",
          "height": 658
        },
        "id": "G19uFyexTmd6",
        "outputId": "7184152f-67f7-46dc-b0a5-1ca8461273b2"
      },
      "execution_count": null,
      "outputs": [
        {
          "output_type": "stream",
          "name": "stderr",
          "text": [
            "<ipython-input-27-e124ad3d91de>:2: UserWarning: \n",
            "\n",
            "`distplot` is a deprecated function and will be removed in seaborn v0.14.0.\n",
            "\n",
            "Please adapt your code to use either `displot` (a figure-level function with\n",
            "similar flexibility) or `histplot` (an axes-level function for histograms).\n",
            "\n",
            "For a guide to updating your code to use the new functions, please see\n",
            "https://gist.github.com/mwaskom/de44147ed2974457ad6372750bbe5751\n",
            "\n",
            "  sns.distplot(df['Gold_s'])\n"
          ]
        },
        {
          "output_type": "execute_result",
          "data": {
            "text/plain": [
              "<Axes: xlabel='Gold_s', ylabel='Density'>"
            ]
          },
          "metadata": {},
          "execution_count": 27
        },
        {
          "output_type": "display_data",
          "data": {
            "text/plain": [
              "<Figure size 640x480 with 1 Axes>"
            ],
            "image/png": "[encoded data removed]"
          },
          "metadata": {}
        }
      ]
    },
    {
      "cell_type": "code",
      "source": [
        "# to see outliers clearly\n",
        "sns.boxenplot(df['Gold_s'])\n",
        "# some round circle above mean are the outliners"
      ],
      "metadata": {
        "colab": {
          "base_uri": "https://localhost:8080/",
          "height": 430
        },
        "id": "-Zy6yecQVoH5",
        "outputId": "81493e46-287e-4dff-c37e-98fe1ac2aa18"
      },
      "execution_count": null,
      "outputs": [
        {
          "output_type": "execute_result",
          "data": {
            "text/plain": [
              "<Axes: ylabel='Gold_s'>"
            ]
          },
          "metadata": {},
          "execution_count": 28
        },
        {
          "output_type": "display_data",
          "data": {
            "text/plain": [
              "<Figure size 640x480 with 1 Axes>"
            ],
            "image/png": "[encoded data removed]"
          },
          "metadata": {}
        }
      ]
    },
    {
      "cell_type": "code",
      "source": [
        "# Z-score method\n",
        "upper_limit = df['Gold_s'].mean() + 3*df['Gold_s'].std()\n",
        "lower_limit = df['Gold_s'].mean() -3 *df['Gold_s'].std()\n",
        "print('upper limit:',upper_limit)\n",
        "print('lower limit:',lower_limit)"
      ],
      "metadata": {
        "colab": {
          "base_uri": "https://localhost:8080/"
        },
        "id": "blBQhT0HW8Oh",
        "outputId": "57f28267-916e-44b4-e841-569dc0926342"
      },
      "execution_count": null,
      "outputs": [
        {
          "output_type": "stream",
          "name": "stdout",
          "text": [
            "upper limit: 1282.0785419151248\n",
            "lower limit: -1151.2213990579821\n"
          ]
        }
      ]
    },
    {
      "cell_type": "code",
      "source": [
        "#find the outliers\n",
        "df.loc[(df['Gold_s'] > upper_limit) |  (df['Gold_s'] < lower_limit)]"
      ],
      "metadata": {
        "colab": {
          "base_uri": "https://localhost:8080/",
          "height": 81
        },
        "id": "bGnoTpanYYMG",
        "outputId": "92880d87-612b-47d6-d467-57aaba511fbc"
      },
      "execution_count": null,
      "outputs": [
        {
          "output_type": "execute_result",
          "data": {
            "text/plain": [
              "    Country  Summer  Gold_s  Silver_s  Bronze_s  Total_summer  Winter  Gold_w  \\\n",
              "146  Totals      27    4809      4775      5130         14714      22     959   \n",
              "\n",
              "     Silver_w  Bronze_w  Total_Winter  Total_Games  Tot_Gold  Tol_Sil  \\\n",
              "146       958       948          2865           49      5768     5733   \n",
              "\n",
              "     Tol_Bro  Combined_total  \n",
              "146     6078           17579  "
            ],
            "text/html": [
              "\n",
              "  <div id=\"df-8309ac9e-90ff-41b9-9ca1-8cca3e0bcf65\" class=\"colab-df-container\">\n",
              "    <div>\n",
              "<style scoped>\n",
              "    .dataframe tbody tr th:only-of-type {\n",
              "        vertical-align: middle;\n",
              "    }\n",
              "\n",
              "    .dataframe tbody tr th {\n",
              "        vertical-align: top;\n",
              "    }\n",
              "\n",
              "    .dataframe thead th {\n",
              "        text-align: right;\n",
              "    }\n",
              "</style>\n",
              "<table border=\"1\" class=\"dataframe\">\n",
              "  <thead>\n",
              "    <tr style=\"text-align: right;\">\n",
              "      <th></th>\n",
              "      <th>Country</th>\n",
              "      <th>Summer</th>\n",
              "      <th>Gold_s</th>\n",
              "      <th>Silver_s</th>\n",
              "      <th>Bronze_s</th>\n",
              "      <th>Total_summer</th>\n",
              "      <th>Winter</th>\n",
              "      <th>Gold_w</th>\n",
              "      <th>Silver_w</th>\n",
              "      <th>Bronze_w</th>\n",
              "      <th>Total_Winter</th>\n",
              "      <th>Total_Games</th>\n",
              "      <th>Tot_Gold</th>\n",
              "      <th>Tol_Sil</th>\n",
              "      <th>Tol_Bro</th>\n",
              "      <th>Combined_total</th>\n",
              "    </tr>\n",
              "  </thead>\n",
              "  <tbody>\n",
              "    <tr>\n",
              "      <th>146</th>\n",
              "      <td>Totals</td>\n",
              "      <td>27</td>\n",
              "      <td>4809</td>\n",
              "      <td>4775</td>\n",
              "      <td>5130</td>\n",
              "      <td>14714</td>\n",
              "      <td>22</td>\n",
              "      <td>959</td>\n",
              "      <td>958</td>\n",
              "      <td>948</td>\n",
              "      <td>2865</td>\n",
              "      <td>49</td>\n",
              "      <td>5768</td>\n",
              "      <td>5733</td>\n",
              "      <td>6078</td>\n",
              "      <td>17579</td>\n",
              "    </tr>\n",
              "  </tbody>\n",
              "</table>\n",
              "</div>\n",
              "    <div class=\"colab-df-buttons\">\n",
              "\n",
              "  <div class=\"colab-df-container\">\n",
              "    <button class=\"colab-df-convert\" onclick=\"convertToInteractive('df-8309ac9e-90ff-41b9-9ca1-8cca3e0bcf65')\"\n",
              "            title=\"Convert this dataframe to an interactive table.\"\n",
              "            style=\"display:none;\">\n",
              "\n",
              "  <svg xmlns=\"http://www.w3.org/2000/svg\" height=\"24px\" viewBox=\"0 -960 960 960\">\n",
              "    <path d=\"M120-120v-720h720v720H120Zm60-500h600v-160H180v160Zm220 220h160v-160H400v160Zm0 220h160v-160H400v160ZM180-400h160v-160H180v160Zm440 0h160v-160H620v160ZM180-180h160v-160H180v160Zm440 0h160v-160H620v160Z\"/>\n",
              "  </svg>\n",
              "    </button>\n",
              "\n",
              "  <style>\n",
              "    .colab-df-container {\n",
              "      display:flex;\n",
              "      gap: 12px;\n",
              "    }\n",
              "\n",
              "    .colab-df-convert {\n",
              "      background-color: #E8F0FE;\n",
              "      border: none;\n",
              "      border-radius: 50%;\n",
              "      cursor: pointer;\n",
              "      display: none;\n",
              "      fill: #1967D2;\n",
              "      height: 32px;\n",
              "      padding: 0 0 0 0;\n",
              "      width: 32px;\n",
              "    }\n",
              "\n",
              "    .colab-df-convert:hover {\n",
              "      background-color: #E2EBFA;\n",
              "      box-shadow: 0px 1px 2px rgba(60, 64, 67, 0.3), 0px 1px 3px 1px rgba(60, 64, 67, 0.15);\n",
              "      fill: #174EA6;\n",
              "    }\n",
              "\n",
              "    .colab-df-buttons div {\n",
              "      margin-bottom: 4px;\n",
              "    }\n",
              "\n",
              "    [theme=dark] .colab-df-convert {\n",
              "      background-color: #3B4455;\n",
              "      fill: #D2E3FC;\n",
              "    }\n",
              "\n",
              "    [theme=dark] .colab-df-convert:hover {\n",
              "      background-color: #434B5C;\n",
              "      box-shadow: 0px 1px 3px 1px rgba(0, 0, 0, 0.15);\n",
              "      filter: drop-shadow(0px 1px 2px rgba(0, 0, 0, 0.3));\n",
              "      fill: #FFFFFF;\n",
              "    }\n",
              "  </style>\n",
              "\n",
              "    <script>\n",
              "      const buttonEl =\n",
              "        document.querySelector('#df-8309ac9e-90ff-41b9-9ca1-8cca3e0bcf65 button.colab-df-convert');\n",
              "      buttonEl.style.display =\n",
              "        google.colab.kernel.accessAllowed ? 'block' : 'none';\n",
              "\n",
              "      async function convertToInteractive(key) {\n",
              "        const element = document.querySelector('#df-8309ac9e-90ff-41b9-9ca1-8cca3e0bcf65');\n",
              "        const dataTable =\n",
              "          await google.colab.kernel.invokeFunction('convertToInteractive',\n",
              "                                                    [key], {});\n",
              "        if (!dataTable) return;\n",
              "\n",
              "        const docLinkHtml = 'Like what you see? Visit the ' +\n",
              "          '<a target=\"_blank\" href=https://colab.research.google.com/notebooks/data_table.ipynb>data table notebook</a>'\n",
              "          + ' to learn more about interactive tables.';\n",
              "        element.innerHTML = '';\n",
              "        dataTable['output_type'] = 'display_data';\n",
              "        await google.colab.output.renderOutput(dataTable, element);\n",
              "        const docLink = document.createElement('div');\n",
              "        docLink.innerHTML = docLinkHtml;\n",
              "        element.appendChild(docLink);\n",
              "      }\n",
              "    </script>\n",
              "  </div>\n",
              "\n",
              "\n",
              "    </div>\n",
              "  </div>\n"
            ],
            "application/vnd.google.colaboratory.intrinsic+json": {
              "type": "dataframe",
              "summary": "{\n  \"name\": \"df\",\n  \"rows\": 1,\n  \"fields\": [\n    {\n      \"column\": \"Country\",\n      \"properties\": {\n        \"dtype\": \"string\",\n        \"num_unique_values\": 1,\n        \"samples\": [\n          \"Totals\"\n        ],\n        \"semantic_type\": \"\",\n        \"description\": \"\"\n      }\n    },\n    {\n      \"column\": \"Summer\",\n      \"properties\": {\n        \"dtype\": \"number\",\n        \"std\": null,\n        \"min\": 27,\n        \"max\": 27,\n        \"num_unique_values\": 1,\n        \"samples\": [\n          27\n        ],\n        \"semantic_type\": \"\",\n        \"description\": \"\"\n      }\n    },\n    {\n      \"column\": \"Gold_s\",\n      \"properties\": {\n        \"dtype\": \"number\",\n        \"std\": null,\n        \"min\": 4809,\n        \"max\": 4809,\n        \"num_unique_values\": 1,\n        \"samples\": [\n          4809\n        ],\n        \"semantic_type\": \"\",\n        \"description\": \"\"\n      }\n    },\n    {\n      \"column\": \"Silver_s\",\n      \"properties\": {\n        \"dtype\": \"number\",\n        \"std\": null,\n        \"min\": 4775,\n        \"max\": 4775,\n        \"num_unique_values\": 1,\n        \"samples\": [\n          4775\n        ],\n        \"semantic_type\": \"\",\n        \"description\": \"\"\n      }\n    },\n    {\n      \"column\": \"Bronze_s\",\n      \"properties\": {\n        \"dtype\": \"number\",\n        \"std\": null,\n        \"min\": 5130,\n        \"max\": 5130,\n        \"num_unique_values\": 1,\n        \"samples\": [\n          5130\n        ],\n        \"semantic_type\": \"\",\n        \"description\": \"\"\n      }\n    },\n    {\n      \"column\": \"Total_summer\",\n      \"properties\": {\n        \"dtype\": \"number\",\n        \"std\": null,\n        \"min\": 14714,\n        \"max\": 14714,\n        \"num_unique_values\": 1,\n        \"samples\": [\n          14714\n        ],\n        \"semantic_type\": \"\",\n        \"description\": \"\"\n      }\n    },\n    {\n      \"column\": \"Winter\",\n      \"properties\": {\n        \"dtype\": \"number\",\n        \"std\": null,\n        \"min\": 22,\n        \"max\": 22,\n        \"num_unique_values\": 1,\n        \"samples\": [\n          22\n        ],\n        \"semantic_type\": \"\",\n        \"description\": \"\"\n      }\n    },\n    {\n      \"column\": \"Gold_w\",\n      \"properties\": {\n        \"dtype\": \"number\",\n        \"std\": null,\n        \"min\": 959,\n        \"max\": 959,\n        \"num_unique_values\": 1,\n        \"samples\": [\n          959\n        ],\n        \"semantic_type\": \"\",\n        \"description\": \"\"\n      }\n    },\n    {\n      \"column\": \"Silver_w\",\n      \"properties\": {\n        \"dtype\": \"number\",\n        \"std\": null,\n        \"min\": 958,\n        \"max\": 958,\n        \"num_unique_values\": 1,\n        \"samples\": [\n          958\n        ],\n        \"semantic_type\": \"\",\n        \"description\": \"\"\n      }\n    },\n    {\n      \"column\": \"Bronze_w\",\n      \"properties\": {\n        \"dtype\": \"number\",\n        \"std\": null,\n        \"min\": 948,\n        \"max\": 948,\n        \"num_unique_values\": 1,\n        \"samples\": [\n          948\n        ],\n        \"semantic_type\": \"\",\n        \"description\": \"\"\n      }\n    },\n    {\n      \"column\": \"Total_Winter\",\n      \"properties\": {\n        \"dtype\": \"number\",\n        \"std\": null,\n        \"min\": 2865,\n        \"max\": 2865,\n        \"num_unique_values\": 1,\n        \"samples\": [\n          2865\n        ],\n        \"semantic_type\": \"\",\n        \"description\": \"\"\n      }\n    },\n    {\n      \"column\": \"Total_Games\",\n      \"properties\": {\n        \"dtype\": \"number\",\n        \"std\": null,\n        \"min\": 49,\n        \"max\": 49,\n        \"num_unique_values\": 1,\n        \"samples\": [\n          49\n        ],\n        \"semantic_type\": \"\",\n        \"description\": \"\"\n      }\n    },\n    {\n      \"column\": \"Tot_Gold\",\n      \"properties\": {\n        \"dtype\": \"number\",\n        \"std\": null,\n        \"min\": 5768,\n        \"max\": 5768,\n        \"num_unique_values\": 1,\n        \"samples\": [\n          5768\n        ],\n        \"semantic_type\": \"\",\n        \"description\": \"\"\n      }\n    },\n    {\n      \"column\": \"Tol_Sil\",\n      \"properties\": {\n        \"dtype\": \"number\",\n        \"std\": null,\n        \"min\": 5733,\n        \"max\": 5733,\n        \"num_unique_values\": 1,\n        \"samples\": [\n          5733\n        ],\n        \"semantic_type\": \"\",\n        \"description\": \"\"\n      }\n    },\n    {\n      \"column\": \"Tol_Bro\",\n      \"properties\": {\n        \"dtype\": \"number\",\n        \"std\": null,\n        \"min\": 6078,\n        \"max\": 6078,\n        \"num_unique_values\": 1,\n        \"samples\": [\n          6078\n        ],\n        \"semantic_type\": \"\",\n        \"description\": \"\"\n      }\n    },\n    {\n      \"column\": \"Combined_total\",\n      \"properties\": {\n        \"dtype\": \"number\",\n        \"std\": null,\n        \"min\": 17579,\n        \"max\": 17579,\n        \"num_unique_values\": 1,\n        \"samples\": [\n          17579\n        ],\n        \"semantic_type\": \"\",\n        \"description\": \"\"\n      }\n    }\n  ]\n}"
            }
          },
          "metadata": {},
          "execution_count": 30
        }
      ]
    },
    {
      "cell_type": "code",
      "source": [
        "#trimming-delete the outlier data\n",
        "new_df = df.loc[(df['Gold_s'] < upper_limit) & (df['Gold_s'] > lower_limit)]\n",
        "print('before removing outliers:', len(df))\n",
        "print('after removing outliers:', len(new_df))\n",
        "print('outliers:', len(df) - len(new_df))\n"
      ],
      "metadata": {
        "colab": {
          "base_uri": "https://localhost:8080/"
        },
        "id": "GptkIxxtawuq",
        "outputId": "1e48276a-6805-4dca-c6c0-dc2245b66707"
      },
      "execution_count": null,
      "outputs": [
        {
          "output_type": "stream",
          "name": "stdout",
          "text": [
            "before removing outliers: 147\n",
            "after removing outliers: 146\n",
            "outliers: 1\n"
          ]
        }
      ]
    },
    {
      "cell_type": "code",
      "source": [
        "sns.boxplot(new_df['Gold_s'])\n",
        "#review graph after data trimming"
      ],
      "metadata": {
        "colab": {
          "base_uri": "https://localhost:8080/",
          "height": 428
        },
        "id": "ecq9e-T3inKy",
        "outputId": "3c3dbbef-639d-465e-a257-8ff015ec51d7"
      },
      "execution_count": null,
      "outputs": [
        {
          "output_type": "execute_result",
          "data": {
            "text/plain": [
              "<Axes: ylabel='Gold_s'>"
            ]
          },
          "metadata": {},
          "execution_count": 32
        },
        {
          "output_type": "display_data",
          "data": {
            "text/plain": [
              "<Figure size 640x480 with 1 Axes>"
            ],
            "image/png": "[encoded data removed]"
          },
          "metadata": {}
        }
      ]
    },
    {
      "cell_type": "code",
      "source": [
        "#capping - change the outliner values to upper (or) lower limit values\n",
        "new_df = df.copy()\n",
        "new_df.loc[(new_df['Gold_s']>upper_limit), 'Gold_s'] = upper_limit\n",
        "new_df.loc[(new_df['Gold_s']<lower_limit), 'Gold_s'] = lower_limit"
      ],
      "metadata": {
        "id": "mHcWlx8gk_9Y"
      },
      "execution_count": null,
      "outputs": []
    },
    {
      "cell_type": "code",
      "source": [
        "sns.boxplot(new_df['Gold_s'])"
      ],
      "metadata": {
        "colab": {
          "base_uri": "https://localhost:8080/",
          "height": 428
        },
        "id": "N0U8poGDmyKO",
        "outputId": "9a398bdf-670b-4d18-91b7-8d7084daf316"
      },
      "execution_count": null,
      "outputs": [
        {
          "output_type": "execute_result",
          "data": {
            "text/plain": [
              "<Axes: ylabel='Gold_s'>"
            ]
          },
          "metadata": {},
          "execution_count": 34
        },
        {
          "output_type": "display_data",
          "data": {
            "text/plain": [
              "<Figure size 640x480 with 1 Axes>"
            ],
            "image/png": "[encoded data removed]"
          },
          "metadata": {}
        }
      ]
    },
    {
      "cell_type": "code",
      "source": [
        "upper_limit = df['Silver_s'].mean() + 3*df['Silver_s'].std()\n",
        "lower_limit = df['Silver_s'].mean() -3 *df['Silver_s'].std()\n",
        "print('upper limit:',upper_limit)\n",
        "print('lower limit:',lower_limit)"
      ],
      "metadata": {
        "colab": {
          "base_uri": "https://localhost:8080/"
        },
        "id": "w8iB5rIvloEd",
        "outputId": "2a628624-f720-4ddf-a10f-4aa7f284ac00"
      },
      "execution_count": null,
      "outputs": [
        {
          "output_type": "stream",
          "name": "stdout",
          "text": [
            "upper limit: 1262.8958659641714\n",
            "lower limit: -1132.9638931750558\n"
          ]
        }
      ]
    },
    {
      "cell_type": "code",
      "source": [
        "#trimming-delete the outlier data\n",
        "new_df = df.loc[(df['Silver_s'] < upper_limit) & (df['Silver_s'] > lower_limit)]\n",
        "print('before removing outliers:', len(df))\n",
        "print('after removing outliers:', len(new_df))\n",
        "print('outliers:', len(df) - len(new_df))"
      ],
      "metadata": {
        "colab": {
          "base_uri": "https://localhost:8080/"
        },
        "id": "xnO9b-kgl68b",
        "outputId": "2816e1ad-889d-4c61-ddf4-3025d751ad5a"
      },
      "execution_count": null,
      "outputs": [
        {
          "output_type": "stream",
          "name": "stdout",
          "text": [
            "before removing outliers: 147\n",
            "after removing outliers: 146\n",
            "outliers: 1\n"
          ]
        }
      ]
    },
    {
      "cell_type": "code",
      "source": [
        "#capping - change the outliner values to upper (or) lower limit values\n",
        "new_df = df.copy()\n",
        "new_df.loc[(new_df['Silver_s']>upper_limit), 'Silver_s'] = upper_limit\n",
        "new_df.loc[(new_df['Silver_s']<lower_limit), 'Silver_s'] = lower_limit"
      ],
      "metadata": {
        "id": "dsW0xH6XnY75"
      },
      "execution_count": null,
      "outputs": []
    },
    {
      "cell_type": "code",
      "source": [
        "sns.boxplot(new_df['Silver_s'])"
      ],
      "metadata": {
        "colab": {
          "base_uri": "https://localhost:8080/",
          "height": 428
        },
        "id": "a3rBxqIqneW1",
        "outputId": "9cc64821-7339-4bee-bffd-bc62c3c88264"
      },
      "execution_count": null,
      "outputs": [
        {
          "output_type": "execute_result",
          "data": {
            "text/plain": [
              "<Axes: ylabel='Silver_s'>"
            ]
          },
          "metadata": {},
          "execution_count": 38
        },
        {
          "output_type": "display_data",
          "data": {
            "text/plain": [
              "<Figure size 640x480 with 1 Axes>"
            ],
            "image/png": "[encoded data removed]"
          },
          "metadata": {}
        }
      ]
    },
    {
      "cell_type": "code",
      "source": [
        "upper_limit = df['Bronze_s'].mean() + 3*df['Bronze_s'].std()\n",
        "lower_limit = df['Bronze_s'].mean() -3 *df['Bronze_s'].std()\n",
        "print('upper limit:',upper_limit)\n",
        "print('lower limit:',lower_limit)"
      ],
      "metadata": {
        "colab": {
          "base_uri": "https://localhost:8080/"
        },
        "id": "PwPWKn0TmV2Z",
        "outputId": "b0c24f61-72be-40ec-a646-3bad4f02c8aa"
      },
      "execution_count": null,
      "outputs": [
        {
          "output_type": "stream",
          "name": "stdout",
          "text": [
            "upper limit: 1351.3579492605527\n",
            "lower limit: -1211.7661125258587\n"
          ]
        }
      ]
    },
    {
      "cell_type": "code",
      "source": [
        "#trimming-delete the outlier data\n",
        "new_df = df.loc[(df['Bronze_s'] < upper_limit) & (df['Bronze_s'] > lower_limit)]\n",
        "print('before removing outliers:', len(df))\n",
        "print('after removing outliers:', len(new_df))\n",
        "print('outliers:', len(df) - len(new_df))"
      ],
      "metadata": {
        "colab": {
          "base_uri": "https://localhost:8080/"
        },
        "id": "ujJmKCtymg49",
        "outputId": "a76ecca9-beba-4876-b0e5-d5944e336002"
      },
      "execution_count": null,
      "outputs": [
        {
          "output_type": "stream",
          "name": "stdout",
          "text": [
            "before removing outliers: 147\n",
            "after removing outliers: 146\n",
            "outliers: 1\n"
          ]
        }
      ]
    },
    {
      "cell_type": "code",
      "source": [
        "#capping - change the outliner values to upper (or) lower limit values\n",
        "new_df = df.copy()\n",
        "new_df.loc[(new_df['Bronze_s']>upper_limit), 'Bronze_s'] = upper_limit\n",
        "new_df.loc[(new_df['Bronze_s']<lower_limit), 'Bronze_s'] = lower_limit"
      ],
      "metadata": {
        "id": "mnWcqxhMnv_N"
      },
      "execution_count": null,
      "outputs": []
    },
    {
      "cell_type": "code",
      "source": [
        "sns.boxplot(new_df['Bronze_s'])"
      ],
      "metadata": {
        "colab": {
          "base_uri": "https://localhost:8080/",
          "height": 429
        },
        "id": "OjZs-Zz1n48x",
        "outputId": "0adaefdc-120e-4572-bbc5-447de28a64a3"
      },
      "execution_count": null,
      "outputs": [
        {
          "output_type": "execute_result",
          "data": {
            "text/plain": [
              "<Axes: ylabel='Bronze_s'>"
            ]
          },
          "metadata": {},
          "execution_count": 42
        },
        {
          "output_type": "display_data",
          "data": {
            "text/plain": [
              "<Figure size 640x480 with 1 Axes>"
            ],
            "image/png": "[encoded data removed]"
          },
          "metadata": {}
        }
      ]
    },
    {
      "cell_type": "code",
      "source": [
        "# Z-score method\n",
        "upper_limit = df['Gold_w'].mean() + 3*df['Gold_w'].std()\n",
        "lower_limit = df['Gold_w'].mean() -3 *df['Gold_w'].std()\n",
        "print('upper limit:',upper_limit)\n",
        "print('lower limit:',lower_limit)"
      ],
      "metadata": {
        "colab": {
          "base_uri": "https://localhost:8080/"
        },
        "id": "D5sBj2vSn-ZR",
        "outputId": "bbaece34-7903-4a41-b729-4f1bf6988138"
      },
      "execution_count": null,
      "outputs": [
        {
          "output_type": "stream",
          "name": "stdout",
          "text": [
            "upper limit: 255.44523194784136\n",
            "lower limit: -229.3499938526033\n"
          ]
        }
      ]
    },
    {
      "cell_type": "code",
      "source": [
        "#trimming-delete the outlier data\n",
        "new_df = df.loc[(df['Gold_w'] < upper_limit) & (df['Gold_w'] > lower_limit)]\n",
        "print('before removing outliers:', len(df))\n",
        "print('after removing outliers:', len(new_df))\n",
        "print('outliers:', len(df) - len(new_df))"
      ],
      "metadata": {
        "colab": {
          "base_uri": "https://localhost:8080/"
        },
        "id": "S6avc6WWoPim",
        "outputId": "d374b0b8-1545-4345-d4dd-49dcdbf5a2fe"
      },
      "execution_count": null,
      "outputs": [
        {
          "output_type": "stream",
          "name": "stdout",
          "text": [
            "before removing outliers: 147\n",
            "after removing outliers: 146\n",
            "outliers: 1\n"
          ]
        }
      ]
    },
    {
      "cell_type": "code",
      "source": [
        "#capping - change the outliner values to upper (or) lower limit values\n",
        "new_df = df.copy()\n",
        "new_df.loc[(new_df['Gold_w']>upper_limit), 'Gold_w'] = upper_limit\n",
        "new_df.loc[(new_df['Gold_w']<lower_limit), 'Gold_w'] = lower_limit"
      ],
      "metadata": {
        "id": "b5urqS_xoURc"
      },
      "execution_count": null,
      "outputs": []
    },
    {
      "cell_type": "code",
      "source": [
        "sns.boxplot(new_df['Gold_w'])"
      ],
      "metadata": {
        "colab": {
          "base_uri": "https://localhost:8080/",
          "height": 428
        },
        "id": "do6XZgrKoct8",
        "outputId": "8c6b1f96-bba8-4890-fc65-18e56cff85b0"
      },
      "execution_count": null,
      "outputs": [
        {
          "output_type": "execute_result",
          "data": {
            "text/plain": [
              "<Axes: ylabel='Gold_w'>"
            ]
          },
          "metadata": {},
          "execution_count": 46
        },
        {
          "output_type": "display_data",
          "data": {
            "text/plain": [
              "<Figure size 640x480 with 1 Axes>"
            ],
            "image/png": "[encoded data removed]"
          },
          "metadata": {}
        }
      ]
    },
    {
      "cell_type": "code",
      "source": [
        "upper_limit = df['Silver_w'].mean() + 3*df['Silver_w'].std()\n",
        "lower_limit = df['Silver_w'].mean() -3 *df['Silver_w'].std()\n",
        "print('upper limit:',upper_limit)\n",
        "print('lower limit:',lower_limit)"
      ],
      "metadata": {
        "colab": {
          "base_uri": "https://localhost:8080/"
        },
        "id": "PVUpoAgYopID",
        "outputId": "3bf38520-2899-443c-d5ed-d4ebe02455f2"
      },
      "execution_count": null,
      "outputs": [
        {
          "output_type": "stream",
          "name": "stdout",
          "text": [
            "upper limit: 254.93727556462176\n",
            "lower limit: -228.86924835373742\n"
          ]
        }
      ]
    },
    {
      "cell_type": "code",
      "source": [
        "#trimming-delete the outlier data\n",
        "new_df = df.loc[(df['Silver_w'] < upper_limit) & (df['Silver_w'] > lower_limit)]\n",
        "print('before removing outliers:', len(df))\n",
        "print('after removing outliers:', len(new_df))\n",
        "print('outliers:', len(df) - len(new_df))"
      ],
      "metadata": {
        "colab": {
          "base_uri": "https://localhost:8080/"
        },
        "id": "9yvghiKfo235",
        "outputId": "d8673664-1f0c-4ab3-d34c-e9b42dd6175b"
      },
      "execution_count": null,
      "outputs": [
        {
          "output_type": "stream",
          "name": "stdout",
          "text": [
            "before removing outliers: 147\n",
            "after removing outliers: 146\n",
            "outliers: 1\n"
          ]
        }
      ]
    },
    {
      "cell_type": "code",
      "source": [
        "#capping - change the outliner values to upper (or) lower limit values\n",
        "new_df = df.copy()\n",
        "new_df.loc[(new_df['Silver_w']>upper_limit), 'Silver_w'] = upper_limit\n",
        "new_df.loc[(new_df['Silver_w']<lower_limit), 'Silver_w'] = lower_limit"
      ],
      "metadata": {
        "id": "Gg9V54mso_Eu"
      },
      "execution_count": null,
      "outputs": []
    },
    {
      "cell_type": "code",
      "source": [
        "sns.boxplot(new_df['Silver_w'])"
      ],
      "metadata": {
        "colab": {
          "base_uri": "https://localhost:8080/",
          "height": 428
        },
        "id": "ghXtJjf8pFqi",
        "outputId": "9d1155bb-1135-4450-811a-e7b32546df65"
      },
      "execution_count": null,
      "outputs": [
        {
          "output_type": "execute_result",
          "data": {
            "text/plain": [
              "<Axes: ylabel='Silver_w'>"
            ]
          },
          "metadata": {},
          "execution_count": 50
        },
        {
          "output_type": "display_data",
          "data": {
            "text/plain": [
              "<Figure size 640x480 with 1 Axes>"
            ],
            "image/png": "[encoded data removed]"
          },
          "metadata": {}
        }
      ]
    },
    {
      "cell_type": "code",
      "source": [
        "upper_limit = df['Bronze_w'].mean() + 3*df['Bronze_w'].std()\n",
        "lower_limit = df['Bronze_w'].mean() -3 *df['Bronze_w'].std()\n",
        "print('upper limit:',upper_limit)\n",
        "print('lower limit:',lower_limit)"
      ],
      "metadata": {
        "colab": {
          "base_uri": "https://localhost:8080/"
        },
        "id": "OJ69790bpNsj",
        "outputId": "744a8432-77ae-4dce-dd91-c76478a7d227"
      },
      "execution_count": null,
      "outputs": [
        {
          "output_type": "stream",
          "name": "stdout",
          "text": [
            "upper limit: 251.66312185918682\n",
            "lower limit: -225.8672034918399\n"
          ]
        }
      ]
    },
    {
      "cell_type": "code",
      "source": [
        "#trimming-delete the outlier data\n",
        "new_df = df.loc[(df['Bronze_w'] < upper_limit) & (df['Bronze_w'] > lower_limit)]\n",
        "print('before removing outliers:', len(df))\n",
        "print('after removing outliers:', len(new_df))\n",
        "print('outliers:', len(df) - len(new_df))\n",
        "new_df.to_csv('olympics_update1.csv', index=False)\n",
        "print(\"Trimmed DataFrame saved as 'olympics_update1.csv'\")"
      ],
      "metadata": {
        "colab": {
          "base_uri": "https://localhost:8080/"
        },
        "id": "eWkvaWbwpUHZ",
        "outputId": "1c19d5a9-54d2-492f-d140-a03da1b79a4d"
      },
      "execution_count": null,
      "outputs": [
        {
          "output_type": "stream",
          "name": "stdout",
          "text": [
            "before removing outliers: 147\n",
            "after removing outliers: 146\n",
            "outliers: 1\n",
            "Trimmed DataFrame saved as 'olympics_update1.csv'\n"
          ]
        }
      ]
    },
    {
      "cell_type": "code",
      "source": [
        "sns.boxplot(new_df['Bronze_w'])"
      ],
      "metadata": {
        "colab": {
          "base_uri": "https://localhost:8080/",
          "height": 428
        },
        "id": "hIlXP2ZrpjkT",
        "outputId": "2c566bb1-ec1a-41ea-8b9f-b9ccd03e53d8"
      },
      "execution_count": null,
      "outputs": [
        {
          "output_type": "execute_result",
          "data": {
            "text/plain": [
              "<Axes: ylabel='Bronze_w'>"
            ]
          },
          "metadata": {},
          "execution_count": 53
        },
        {
          "output_type": "display_data",
          "data": {
            "text/plain": [
              "<Figure size 640x480 with 1 Axes>"
            ],
            "image/png": "[encoded data removed]"
          },
          "metadata": {}
        }
      ]
    },
    {
      "cell_type": "code",
      "source": [
        "df.rename(columns={'Total_Winter':'Total_winter','Total_Games':'Total_games','Tot_Gold':'Tot_gold','Tol_Sil':'Tol_sil','Tol_Bro':'Tol_bro'}, inplace=True)\n",
        "df.to_csv('olympics_update1.csv', index=False)\n",
        "print(\"saved\")"
      ],
      "metadata": {
        "colab": {
          "base_uri": "https://localhost:8080/"
        },
        "id": "h0ToinmkrRRB",
        "outputId": "d1413134-64c4-4537-bedf-a80e9a11b742"
      },
      "execution_count": null,
      "outputs": [
        {
          "output_type": "stream",
          "name": "stdout",
          "text": [
            "saved\n"
          ]
        }
      ]
    },
    {
      "cell_type": "code",
      "source": [
        "import pandas as pd\n",
        "from datetime import datetime\n",
        "\n",
        "# Define the columns of the data cleaning log\n",
        "log_columns = ['Date', 'Action', 'Description', 'Column(s) Affected', 'Number Outliner', 'Outliner Value']\n",
        "\n",
        "# Create a list to hold log entries\n",
        "log_entries = []\n",
        "\n",
        "# Function to add an entry to the cleaning log\n",
        "def add_to_log(action, description, columns_affected, number_change=None, change_value=None):\n",
        "    timestamp = datetime.now().strftime('%Y-%m-%d %H:%M:%S')\n",
        "    entry = [timestamp, action, description, columns_affected, number_change, change_value]\n",
        "    log_entries.append(entry)\n",
        "\n",
        "# Example of adding an entry to the log\n",
        "add_to_log('Remove outliers', 'Removed outliers from column', 'Gold_s', '1', '4809')\n",
        "add_to_log('Remove outliers', 'Removed outliers from column', 'Silver_s', '1', '4775')\n",
        "add_to_log('Remove outliers', 'Removed outliers from column', 'Bronze_s', '1', '5130')\n",
        "add_to_log('Remove outliers', 'Removed outliers from column', 'Gold_w', '1', '959')\n",
        "add_to_log('Remove outliers', 'Removed outliers from column', 'Silver_w', '1', '958')\n",
        "add_to_log('Remove outliers', 'Removed outliers from column', 'Bronze_w', '1', '948')\n",
        "add_to_log('Rename Columns', 'Rename Columns', 'All columns', '0', '0')\n",
        "add_to_log('Drop Row', 'Drop Last Total Row', 'Total' , '1', '0')\n",
        "\n",
        "# Create DataFrame from log entries\n",
        "cleaning_log = pd.DataFrame(log_entries, columns=log_columns)\n",
        "\n",
        "# Save the log to a CSV file\n",
        "cleaning_log.to_csv('data_cleaning_log.csv', index=False)\n",
        "\n",
        "print(\"Data cleaning log saved.\")\n",
        "\n"
      ],
      "metadata": {
        "colab": {
          "base_uri": "https://localhost:8080/"
        },
        "id": "oF4y8GK0tNnA",
        "outputId": "199ef25f-98e5-49b2-9815-6d88e8206859"
      },
      "execution_count": null,
      "outputs": [
        {
          "output_type": "stream",
          "name": "stdout",
          "text": [
            "Data cleaning log saved.\n"
          ]
        }
      ]
    },
    {
      "cell_type": "code",
      "source": [
        "# Load the original dataset\n",
        "original_df = pd.read_csv('olympics.csv')\n",
        "\n",
        "# Load the cleaned dataset\n",
        "cleaned_df = pd.read_csv('olympics_update1.csv')\n",
        "\n",
        "# Initialize an empty list to store validation results\n",
        "validation_results = []\n",
        "\n",
        "# Data Validation Checks\n",
        "# 1. Compare number of rows\n",
        "original_rows, cleaned_rows = len(original_df), len(cleaned_df)\n",
        "validation_results.append(('Number of Rows', original_rows == cleaned_rows, original_rows, cleaned_rows))\n",
        "\n",
        "# 2. Compare number of columns\n",
        "original_cols, cleaned_cols = original_df.shape[1], cleaned_df.shape[1]\n",
        "validation_results.append(('Number of Columns', original_cols == cleaned_cols, original_cols, cleaned_cols))\n",
        "\n",
        "# 3. Compare column names\n",
        "original_col_names, cleaned_col_names = set(original_df.columns), set(cleaned_df.columns)\n",
        "validation_results.append(('Column Names', original_col_names == cleaned_col_names, original_col_names, cleaned_col_names))\n",
        "\n",
        "# 4. Compare data types\n",
        "original_dtypes, cleaned_dtypes = original_df.dtypes, cleaned_df.dtypes\n",
        "validation_results.append(('Data Types', original_dtypes.equals(cleaned_dtypes), original_dtypes.to_dict(), cleaned_dtypes.to_dict()))\n",
        "\n",
        "# Convert validation results to DataFrame\n",
        "validation_report = pd.DataFrame(validation_results, columns=['Validation Check', 'Result', 'Original Value', 'Cleaned Value'])\n",
        "\n",
        "# Save validation report to a CSV file\n",
        "validation_report.to_csv('olympics_report.csv', index=False)\n",
        "\n",
        "print(\"Validation report saved as 'olympics_report.csv'\")\n",
        "\n",
        "# validate clenaed data and save as report"
      ],
      "metadata": {
        "colab": {
          "base_uri": "https://localhost:8080/"
        },
        "id": "7I3F9wLb41GC",
        "outputId": "119c369b-3c1c-4826-e844-afd7f92694d2"
      },
      "execution_count": null,
      "outputs": [
        {
          "output_type": "stream",
          "name": "stdout",
          "text": [
            "Validation report saved as 'olympics_report.csv'\n"
          ]
        }
      ]
    }
  ]
}